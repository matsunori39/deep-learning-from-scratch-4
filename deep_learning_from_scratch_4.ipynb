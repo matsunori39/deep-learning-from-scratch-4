{
  "nbformat": 4,
  "nbformat_minor": 0,
  "metadata": {
    "colab": {
      "name": "deep-learning-from-scratch-4.ipynb",
      "provenance": [],
      "authorship_tag": "ABX9TyOJY4rI+YyQBvzJ+CE+Hk90",
      "include_colab_link": true
    },
    "kernelspec": {
      "name": "python3",
      "display_name": "Python 3"
    },
    "language_info": {
      "name": "python"
    }
  },
  "cells": [
    {
      "cell_type": "markdown",
      "metadata": {
        "id": "view-in-github",
        "colab_type": "text"
      },
      "source": [
        "<a href=\"https://colab.research.google.com/github/matsunori39/deep-learning-from-scratch-4/blob/main/deep_learning_from_scratch_4.ipynb\" target=\"_parent\"><img src=\"https://colab.research.google.com/assets/colab-badge.svg\" alt=\"Open In Colab\"/></a>"
      ]
    },
    {
      "cell_type": "markdown",
      "source": [
        "https://github.com/oreilly-japan/deep-learning-from-scratch-4"
      ],
      "metadata": {
        "id": "cDdiu8kjC3Xj"
      }
    },
    {
      "cell_type": "code",
      "source": [
        "!git clone https://github.com/oreilly-japan/deep-learning-from-scratch-4"
      ],
      "metadata": {
        "colab": {
          "base_uri": "https://localhost:8080/"
        },
        "id": "orJ08_JYdqHc",
        "outputId": "09080180-f748-4324-97de-bbab489f8ebd"
      },
      "execution_count": 1,
      "outputs": [
        {
          "output_type": "stream",
          "name": "stdout",
          "text": [
            "Cloning into 'deep-learning-from-scratch-4'...\n",
            "remote: Enumerating objects: 405, done.\u001b[K\n",
            "remote: Counting objects: 100% (14/14), done.\u001b[K\n",
            "remote: Compressing objects: 100% (7/7), done.\u001b[K\n",
            "remote: Total 405 (delta 10), reused 7 (delta 7), pack-reused 391\u001b[K\n",
            "Receiving objects: 100% (405/405), 866.33 KiB | 10.56 MiB/s, done.\n",
            "Resolving deltas: 100% (234/234), done.\n"
          ]
        }
      ]
    },
    {
      "cell_type": "markdown",
      "source": [
        "# Chapter 1 Bandit problem"
      ],
      "metadata": {
        "id": "lzln6G2AC-7t"
      }
    },
    {
      "cell_type": "markdown",
      "source": [
        "## 1.3 Bandit Algorithm"
      ],
      "metadata": {
        "id": "ksd61JT_DJeN"
      }
    },
    {
      "cell_type": "markdown",
      "source": [
        "### 1.3.2 Implementation to find the average"
      ],
      "metadata": {
        "id": "fRh5wlSTDR6T"
      }
    },
    {
      "cell_type": "code",
      "source": [
        "import numpy as np\n",
        "\n",
        "np.random.seed(0)\n",
        "rewards = []\n",
        "\n",
        "for n in range(1, 11):\n",
        "  reward = np.random.rand()\n",
        "  rewards.append(reward)\n",
        "  Q = sum(rewards) / n\n",
        "  print(Q)"
      ],
      "metadata": {
        "colab": {
          "base_uri": "https://localhost:8080/"
        },
        "id": "8D_aD7_JDgV4",
        "outputId": "300830b1-cd6c-4edb-d465-a15ddc8029cd"
      },
      "execution_count": 2,
      "outputs": [
        {
          "output_type": "stream",
          "name": "stdout",
          "text": [
            "0.5488135039273248\n",
            "0.6320014351498722\n",
            "0.6222554154571295\n",
            "0.6029123573420713\n",
            "0.567060845741438\n",
            "0.5801997236289743\n",
            "0.5598265075766483\n",
            "0.6013198192273272\n",
            "0.6415801460355164\n",
            "0.6157662833145425\n"
          ]
        }
      ]
    },
    {
      "cell_type": "code",
      "source": [
        "Q = 0\n",
        "\n",
        "for n in range(1, 11):\n",
        "  reward = np.random.rand()\n",
        "  Q = Q + (reward - Q) / n\n",
        "  # Q += (reward - Q) / n\n",
        "  print(Q)"
      ],
      "metadata": {
        "colab": {
          "base_uri": "https://localhost:8080/"
        },
        "id": "ZqFzVY1HD0Ma",
        "outputId": "21fd8870-4642-4e09-db4d-0f739756c362"
      },
      "execution_count": 3,
      "outputs": [
        {
          "output_type": "stream",
          "name": "stdout",
          "text": [
            "0.7917250380826646\n",
            "0.6603099789177845\n",
            "0.6295548396431672\n",
            "0.7035652893055406\n",
            "0.5770594430840099\n",
            "0.49540441918693173\n",
            "0.4275207017945595\n",
            "0.4781580947637318\n",
            "0.5114912787844116\n",
            "0.5473433657306523\n"
          ]
        }
      ]
    },
    {
      "cell_type": "markdown",
      "source": [
        "## 1.4 Bandit Algorithm Implementation"
      ],
      "metadata": {
        "id": "pnCAJJO6HKEs"
      }
    },
    {
      "cell_type": "markdown",
      "source": [
        "### 1.4.1 Slot machine implementation"
      ],
      "metadata": {
        "id": "dRBa2_k5IV20"
      }
    },
    {
      "cell_type": "code",
      "source": [
        "import numpy as np\n",
        "\n",
        "class Bandit:\n",
        "  def __init__(self, arms=10):\n",
        "      self.rates = np.random.rand(arms)\n",
        "  \n",
        "  def play(self, arm):\n",
        "    rate = self.rates[arm]\n",
        "    if rate > np.random.rand():\n",
        "      return 1\n",
        "    else:\n",
        "      return 0"
      ],
      "metadata": {
        "id": "TXQwnxyMIni1"
      },
      "execution_count": 4,
      "outputs": []
    },
    {
      "cell_type": "code",
      "source": [
        "bandit = Bandit()\n",
        "\n",
        "for i in range(3):\n",
        "  print(bandit.play(0))"
      ],
      "metadata": {
        "colab": {
          "base_uri": "https://localhost:8080/"
        },
        "id": "qjgWUaySI3aA",
        "outputId": "a14eb902-279b-4902-b384-dc2926c2c57b"
      },
      "execution_count": 5,
      "outputs": [
        {
          "output_type": "stream",
          "name": "stdout",
          "text": [
            "1\n",
            "1\n",
            "1\n"
          ]
        }
      ]
    },
    {
      "cell_type": "markdown",
      "source": [
        "### 1.4.2 Agent Implementation\n"
      ],
      "metadata": {
        "id": "Yq_uVsoNJcKT"
      }
    },
    {
      "cell_type": "code",
      "source": [
        "bandit = Bandit()\n",
        "Q = 0\n",
        "\n",
        "for n in range(1, 11):\n",
        "  # Play the 0th slot machine\n",
        "  reward = bandit.play(0)\n",
        "  Q += (reward - Q) / n\n",
        "  print(Q)"
      ],
      "metadata": {
        "colab": {
          "base_uri": "https://localhost:8080/"
        },
        "id": "ych64biqJmO-",
        "outputId": "9c232c33-5148-4b4a-c4f2-4150de7e0d6d"
      },
      "execution_count": 6,
      "outputs": [
        {
          "output_type": "stream",
          "name": "stdout",
          "text": [
            "1.0\n",
            "0.5\n",
            "0.33333333333333337\n",
            "0.5\n",
            "0.6\n",
            "0.6666666666666666\n",
            "0.7142857142857143\n",
            "0.625\n",
            "0.6666666666666666\n",
            "0.6\n"
          ]
        }
      ]
    },
    {
      "cell_type": "code",
      "source": [
        "bandit = Bandit()\n",
        "Qs = np.zeros(10)\n",
        "ns = np.zeros(10)\n",
        "\n",
        "for n in range(10):\n",
        "  action = np.random.randint(0, 10)\n",
        "  reward = bandit.play(action)\n",
        "\n",
        "  ns[action] += 1\n",
        "  Qs[action] += (reward - Qs[action]) / ns[action]\n",
        "  print(Qs)"
      ],
      "metadata": {
        "colab": {
          "base_uri": "https://localhost:8080/"
        },
        "id": "Oa3ExvCgKAjb",
        "outputId": "92d4ca7d-2bf4-4863-806f-77d2015f0973"
      },
      "execution_count": 7,
      "outputs": [
        {
          "output_type": "stream",
          "name": "stdout",
          "text": [
            "[0. 0. 0. 0. 0. 0. 0. 0. 0. 0.]\n",
            "[0. 0. 0. 1. 0. 0. 0. 0. 0. 0.]\n",
            "[0. 0. 0. 1. 0. 1. 0. 0. 0. 0.]\n",
            "[0. 0. 0. 1. 0. 1. 0. 0. 0. 0.]\n",
            "[0. 0. 0. 1. 0. 1. 0. 0. 0. 0.]\n",
            "[0. 0. 0. 1. 0. 1. 0. 0. 0. 0.]\n",
            "[0. 0. 0. 1. 0. 1. 0. 0. 0. 0.]\n",
            "[0. 0. 0. 1. 0. 1. 0. 0. 0. 1.]\n",
            "[0. 0. 0. 1. 0. 1. 0. 0. 0. 1.]\n",
            "[0. 0. 0. 1. 0. 1. 0. 0. 0. 1.]\n"
          ]
        }
      ]
    },
    {
      "cell_type": "code",
      "source": [
        "class Agent:\n",
        "  def __init__(self, epsilon, action_size=10):\n",
        "      self.epsilon = epsilon\n",
        "      self.Qs = np.zeros(action_size)\n",
        "      self.ns = np.zeros(action_size)\n",
        "  \n",
        "  def update(self, action, reward):\n",
        "    self.ns[action] += 1\n",
        "    self.Qs[action] += (reward - self.Qs[action]) / self.ns[action]\n",
        "  \n",
        "  def get_action(self):\n",
        "    if np.random.rand() < self.epsilon:\n",
        "      return np.random.randint(0, len(self.Qs))\n",
        "    return np.argmax(self.Qs)"
      ],
      "metadata": {
        "id": "cfsO7cZ5KmD2"
      },
      "execution_count": 8,
      "outputs": []
    },
    {
      "cell_type": "markdown",
      "source": [
        "### 1.4.3 Let's run"
      ],
      "metadata": {
        "id": "E145LnZMLjPp"
      }
    },
    {
      "cell_type": "code",
      "source": [
        "import matplotlib.pyplot as plt\n",
        "\n",
        "steps = 1000\n",
        "epsilon = 0.1\n",
        "\n",
        "bandit = Bandit()\n",
        "agent = Agent(epsilon)\n",
        "total_reward = 0\n",
        "total_rewards = []\n",
        "rates = []\n",
        "\n",
        "for step in range(steps):\n",
        "  # (1) Choose an action\n",
        "  action = agent.get_action()\n",
        "  # (2) Get rewarded for actually playing\n",
        "  reward = bandit.play(action)\n",
        "  # (3) Learning from Behavior and Rewards\n",
        "  agent.update(action, reward)\n",
        "  total_reward += reward\n",
        "\n",
        "  total_rewards.append(total_reward)\n",
        "  rates.append(total_reward / (step+1))\n",
        "\n",
        "print(total_reward)\n",
        "\n",
        "# Drawing Graphs(1)\n",
        "plt.ylabel('Total reward')\n",
        "plt.xlabel('Steps')\n",
        "plt.plot(total_rewards)\n",
        "plt.show()\n",
        "\n",
        "# Drawing Graphs(2)\n",
        "plt.ylabel('Rates')\n",
        "plt.xlabel('Steps')\n",
        "plt.plot(rates)\n",
        "plt.show()"
      ],
      "metadata": {
        "colab": {
          "base_uri": "https://localhost:8080/",
          "height": 0
        },
        "id": "M0I-j6YdL-z8",
        "outputId": "a4794731-c1a6-4ec6-f10e-0e973d8daec8"
      },
      "execution_count": 9,
      "outputs": [
        {
          "output_type": "stream",
          "name": "stdout",
          "text": [
            "892\n"
          ]
        },
        {
          "output_type": "display_data",
          "data": {
            "text/plain": [
              "<Figure size 432x288 with 1 Axes>"
            ],
            "image/png": "[encoded data removed]"
          },
          "metadata": {
            "needs_background": "light"
          }
        },
        {
          "output_type": "display_data",
          "data": {
            "text/plain": [
              "<Figure size 432x288 with 1 Axes>"
            ],
            "image/png": "[encoded data removed]"
          },
          "metadata": {
            "needs_background": "light"
          }
        }
      ]
    },
    {
      "cell_type": "markdown",
      "source": [
        "### 1.4.4 Average nature of the algorithm"
      ],
      "metadata": {
        "id": "wYAePF8nNmBS"
      }
    },
    {
      "cell_type": "code",
      "source": [
        "from math import e\n",
        "runs = 200\n",
        "steps = 1000\n",
        "epsilon = 0.1\n",
        "all_rates = np.zeros((runs, steps))\n",
        "\n",
        "for run in range(runs):\n",
        "  bandit = Bandit()\n",
        "  agent = Agent(epsilon)\n",
        "  total_reward = 0\n",
        "  rates = []\n",
        "\n",
        "  for step in range(steps):\n",
        "    action = agent.get_action()\n",
        "    reward = bandit.play(action)\n",
        "    agent.update(action, reward)\n",
        "    total_reward += reward\n",
        "    rates.append(total_reward / (step+1))\n",
        "  \n",
        "  # (1) Record the results of the reward\n",
        "  all_rates[run] = rates\n",
        "\n",
        "# (2) Find the average value at each step\n",
        "avg_rates = np.average(all_rates, axis=0)\n",
        "\n",
        "# (3) Drawing Graphs\n",
        "plt.ylabel('Rates')\n",
        "plt.xlabel('Steps')\n",
        "plt.plot(avg_rates)\n",
        "plt.show()"
      ],
      "metadata": {
        "colab": {
          "base_uri": "https://localhost:8080/",
          "height": 0
        },
        "id": "A-ACojIVO2Ws",
        "outputId": "7fa9ca89-602c-4fa9-a91a-13f1472045a6"
      },
      "execution_count": 10,
      "outputs": [
        {
          "output_type": "display_data",
          "data": {
            "text/plain": [
              "<Figure size 432x288 with 1 Axes>"
            ],
            "image/png": "[encoded data removed]"
          },
          "metadata": {
            "needs_background": "light"
          }
        }
      ]
    },
    {
      "cell_type": "markdown",
      "source": [
        "## 1.5 nonstationary problem"
      ],
      "metadata": {
        "id": "qGOsqsADQLgk"
      }
    },
    {
      "cell_type": "code",
      "source": [
        "class NonStatBandit:\n",
        "  def __init__(self, arms=10):\n",
        "    self.arms = arms\n",
        "    self.rates = np.random.rand(arms)\n",
        "\n",
        "    def play(self, arm):\n",
        "      rate = self.rates[arm]\n",
        "      # Adding Noise\n",
        "      self.rates += 0.1 * np.random.randn(self,arms)\n",
        "      if rate > np.random.rand():\n",
        "        return 1\n",
        "      else:\n",
        "        return 0"
      ],
      "metadata": {
        "id": "UWhMKHraszrw"
      },
      "execution_count": 11,
      "outputs": []
    },
    {
      "cell_type": "markdown",
      "source": [
        "### 1.5.2 Solving non-stationary problems"
      ],
      "metadata": {
        "id": "W-HISTMquAUh"
      }
    },
    {
      "cell_type": "code",
      "source": [
        "class AlphaAgent:\n",
        "  def __init__(self, epsilon, alpha, actions=10):\n",
        "      self.epsilon = epsilon\n",
        "      self.Qs = np.zeros(actions)\n",
        "      self.alpha = alpha\n",
        "  \n",
        "  def update(self, action, reward):\n",
        "    self.Qs[action] += (reward - self.Qs[action]) * self.alpha\n",
        "  \n",
        "  def get_action(self):\n",
        "    if np.random.rand() < self.epsilon:\n",
        "      return np.random.randint(0, len(self.Qs))\n",
        "    return np.argmax(self.Qs)"
      ],
      "metadata": {
        "id": "kfxLYoQOnw7g"
      },
      "execution_count": 12,
      "outputs": []
    },
    {
      "cell_type": "markdown",
      "source": [
        "# Chapter 4 Dynamic Programming"
      ],
      "metadata": {
        "id": "KA5ANJRPofXs"
      }
    },
    {
      "cell_type": "markdown",
      "source": [
        "## 4.2 To the larger issue"
      ],
      "metadata": {
        "id": "ireI9eszt3Dd"
      }
    },
    {
      "cell_type": "markdown",
      "source": [
        "### 4.2.1 Implementation of GridWorld class"
      ],
      "metadata": {
        "id": "i_8Ki4W7uI_k"
      }
    },
    {
      "cell_type": "code",
      "source": [
        "%pwd"
      ],
      "metadata": {
        "colab": {
          "base_uri": "https://localhost:8080/",
          "height": 36
        },
        "id": "z7sJTj0ceRxf",
        "outputId": "89b2c306-6b24-430a-e46c-1d031da050ae"
      },
      "execution_count": 13,
      "outputs": [
        {
          "output_type": "execute_result",
          "data": {
            "text/plain": [
              "'/content'"
            ],
            "application/vnd.google.colaboratory.intrinsic+json": {
              "type": "string"
            }
          },
          "metadata": {},
          "execution_count": 13
        }
      ]
    },
    {
      "cell_type": "code",
      "source": [
        "%ls"
      ],
      "metadata": {
        "colab": {
          "base_uri": "https://localhost:8080/"
        },
        "id": "WLKbpVTVeUSp",
        "outputId": "3539ac78-b011-4f6f-da84-82f4775b6137"
      },
      "execution_count": 14,
      "outputs": [
        {
          "output_type": "stream",
          "name": "stdout",
          "text": [
            "\u001b[0m\u001b[01;34mdeep-learning-from-scratch-4\u001b[0m/  \u001b[01;34msample_data\u001b[0m/\n"
          ]
        }
      ]
    },
    {
      "cell_type": "code",
      "source": [
        "%cd /content/deep-learning-from-scratch-4"
      ],
      "metadata": {
        "colab": {
          "base_uri": "https://localhost:8080/"
        },
        "id": "OeLN6KN2eWdD",
        "outputId": "30334d3b-672b-49bc-c734-bae06f6a5972"
      },
      "execution_count": 15,
      "outputs": [
        {
          "output_type": "stream",
          "name": "stdout",
          "text": [
            "/content/deep-learning-from-scratch-4\n"
          ]
        }
      ]
    },
    {
      "cell_type": "code",
      "source": [
        "import numpy as np\n",
        "import common.gridworld_render as render_helper\n",
        "\n",
        "class GridWorld:\n",
        "  def __init__(self):\n",
        "    self.action_space = [0, 1, 2, 3]\n",
        "    self.action_meaning = {\n",
        "        0: \"UP\",\n",
        "        1: \"DOWN\",\n",
        "        2: \"LEFT\",\n",
        "        3: \"RIGHT\",\n",
        "    }\n",
        "\n",
        "    self.reward_map = np.array(\n",
        "        [[0, 0, 0, 1.0],\n",
        "         [0, None, 0, -1.0],\n",
        "         [0, 0, 0, 0]]\n",
        "    )\n",
        "    self.goal_state = (0, 3)\n",
        "    self.wall_state = (1, 1)\n",
        "    self.start_state = (2, 0)\n",
        "    self.agent_state = self.start_state\n",
        "\n",
        "  @property\n",
        "  def height(self):\n",
        "    return len(self.reward_map)\n",
        "\n",
        "  @property\n",
        "  def width(self):\n",
        "    return len(self.reward_map[0])\n",
        "\n",
        "  @property\n",
        "  def shape(self):\n",
        "    return self.reward_map.shape\n",
        "  \n",
        "  def actions(self):\n",
        "    return self.action_space  # [0, 1, 2, 3]\n",
        "  \n",
        "  def states(self):\n",
        "    for h in range(self.height):\n",
        "      for w in range(self.width):\n",
        "        yield (h, w)\n",
        "  \n",
        "  def next_state(self, state, action):\n",
        "    # (1) Calculate the destination location\n",
        "    action_move_map = [(-1, 0), (1, 0), (0, -1), (0, 1)]\n",
        "    move = action_move_map[action]\n",
        "    next_state = (state[0] + move[0], state[1] + move[1])\n",
        "    ny, nx = next_state\n",
        "\n",
        "    # (2) Is the destination outside the GridWorld frame or is the destination a wall?\n",
        "    if nx < 0 or nx >= self.width or ny < 0 or ny >= self.height:\n",
        "      next_state = state\n",
        "    elif next_state == self.wall_state:\n",
        "      next_state = state\n",
        "    \n",
        "    return next_state\n",
        "\n",
        "  def reward(self, state, action, next_state):\n",
        "    return self.reward_map[next_state]\n",
        "  \n",
        "  def reset(self):\n",
        "    self.agent_state = self.start_state\n",
        "    return self.agent_state\n",
        "  \n",
        "  def step(self, action):\n",
        "    state = self.agent_state\n",
        "    next_state = self.next_state(state, action)\n",
        "    reward = self.reward(state, action, next_state)\n",
        "    done = (next_state == self.goal_state)\n",
        "\n",
        "    self.agent_state = next_state\n",
        "    return next_state, reward, done\n",
        "  \n",
        "  def render_v(self, v=None, policy=None, print_value=True):\n",
        "    renderer = render_helper.Renderer(self.reward_map, self.goal_state,\n",
        "                                      self.wall_state)\n",
        "    renderer.render_v(v, policy, print_value)\n",
        "\n",
        "  def render_q(self, q=None, print_value=True):\n",
        "    renderer = render_helper.Renderer(self.reward_map, self.goal_state,\n",
        "                                      self.wall_state)\n",
        "    renderer.render_q(q, print_value)"
      ],
      "metadata": {
        "id": "QZYqAn-GuZ0l"
      },
      "execution_count": 54,
      "outputs": []
    },
    {
      "cell_type": "code",
      "source": [
        "env = GridWorld()\n",
        "\n",
        "print(env.height)\n",
        "print(env.width)\n",
        "print(env.shape)"
      ],
      "metadata": {
        "colab": {
          "base_uri": "https://localhost:8080/"
        },
        "id": "h-kAqHZPvOCw",
        "outputId": "d5bfb844-312f-4d8b-bc18-523ae9967741"
      },
      "execution_count": 17,
      "outputs": [
        {
          "output_type": "stream",
          "name": "stdout",
          "text": [
            "3\n",
            "4\n",
            "(3, 4)\n"
          ]
        }
      ]
    },
    {
      "cell_type": "code",
      "source": [
        "for action in env.actions():\n",
        "  print(action)\n",
        "\n",
        "print('===')\n",
        "\n",
        "for state in env.states():\n",
        "  print(state)"
      ],
      "metadata": {
        "colab": {
          "base_uri": "https://localhost:8080/"
        },
        "id": "SnZJMhk1wk_C",
        "outputId": "c6b2ad86-7533-4be6-f066-469e0ee368df"
      },
      "execution_count": 18,
      "outputs": [
        {
          "output_type": "stream",
          "name": "stdout",
          "text": [
            "0\n",
            "1\n",
            "2\n",
            "3\n",
            "===\n",
            "(0, 0)\n",
            "(0, 1)\n",
            "(0, 2)\n",
            "(0, 3)\n",
            "(1, 0)\n",
            "(1, 1)\n",
            "(1, 2)\n",
            "(1, 3)\n",
            "(2, 0)\n",
            "(2, 1)\n",
            "(2, 2)\n",
            "(2, 3)\n"
          ]
        }
      ]
    },
    {
      "cell_type": "code",
      "source": [
        "env = GridWorld()\n",
        "env.render_v()"
      ],
      "metadata": {
        "colab": {
          "base_uri": "https://localhost:8080/",
          "height": 252
        },
        "id": "RjoJScg3gF1J",
        "outputId": "114e47e1-fce5-43c1-9070-b57c9bbe1e97"
      },
      "execution_count": 19,
      "outputs": [
        {
          "output_type": "display_data",
          "data": {
            "text/plain": [
              "<Figure size 432x288 with 1 Axes>"
            ],
            "image/png": "[encoded data removed]"
          },
          "metadata": {}
        }
      ]
    },
    {
      "cell_type": "code",
      "source": [
        "env = GridWorld()\n",
        "V = {}\n",
        "for state in env.states():\n",
        "  # Dummy state value function\n",
        "  V[state] = np.random.randn()\n",
        "env.render_v(V)"
      ],
      "metadata": {
        "colab": {
          "base_uri": "https://localhost:8080/",
          "height": 252
        },
        "id": "P4etvobigMHs",
        "outputId": "67206aa3-8f54-4c7e-f724-d413e9957a87"
      },
      "execution_count": 20,
      "outputs": [
        {
          "output_type": "display_data",
          "data": {
            "text/plain": [
              "<Figure size 432x288 with 1 Axes>"
            ],
            "image/png": "[encoded data removed]"
          },
          "metadata": {}
        }
      ]
    },
    {
      "cell_type": "markdown",
      "source": [
        "### 4.2.2 How to use defaultdict"
      ],
      "metadata": {
        "id": "58Mi5HgVxwmF"
      }
    },
    {
      "cell_type": "code",
      "source": [
        "env = GridWorld()\n",
        "V = {}\n",
        "\n",
        "# Initialize dictionary elements\n",
        "for state in env.states():\n",
        "  V[state] = 0\n",
        "\n",
        "state = (1, 2)\n",
        "# Output value function for state (1, 2)\n",
        "print(V[state])"
      ],
      "metadata": {
        "colab": {
          "base_uri": "https://localhost:8080/"
        },
        "id": "-2Ft2zNUYZlF",
        "outputId": "aa2949d4-9043-4818-c63b-3884d37ea3c4"
      },
      "execution_count": 21,
      "outputs": [
        {
          "output_type": "stream",
          "name": "stdout",
          "text": [
            "0\n"
          ]
        }
      ]
    },
    {
      "cell_type": "code",
      "source": [
        "from collections import defaultdict\n",
        "\n",
        "env = GridWorld()\n",
        "V = defaultdict(lambda: 0)\n",
        "\n",
        "state = (1, 2)\n",
        "print(V[state])"
      ],
      "metadata": {
        "colab": {
          "base_uri": "https://localhost:8080/"
        },
        "id": "Z-RgPGyoYzaO",
        "outputId": "27eed271-18b5-4345-e7f9-b6f9a182d93d"
      },
      "execution_count": 22,
      "outputs": [
        {
          "output_type": "stream",
          "name": "stdout",
          "text": [
            "0\n"
          ]
        }
      ]
    },
    {
      "cell_type": "code",
      "source": [
        "pi = defaultdict(lambda: {0: 0.25, 1: 0.25, 2: 0.25, 3: 0.25})\n",
        "\n",
        "state = (0, 1)\n",
        "print(pi[state])"
      ],
      "metadata": {
        "colab": {
          "base_uri": "https://localhost:8080/"
        },
        "id": "DdazXMBMZQRY",
        "outputId": "4a53bdf2-4186-4534-9313-970873f61dac"
      },
      "execution_count": 23,
      "outputs": [
        {
          "output_type": "stream",
          "name": "stdout",
          "text": [
            "{0: 0.25, 1: 0.25, 2: 0.25, 3: 0.25}\n"
          ]
        }
      ]
    },
    {
      "cell_type": "markdown",
      "source": [
        "### 4.2.3 Implementaion of Iterative Measure Evaluation"
      ],
      "metadata": {
        "id": "-YFS_XhvZqUb"
      }
    },
    {
      "cell_type": "code",
      "source": [
        "def eval_onestep(pi, V, env, gamma=0.9):\n",
        "  # (1) Access to each state\n",
        "  for state in env.states():\n",
        "    # (2) The goal value function is always θ\n",
        "    if state == env.goal_state:\n",
        "      V[state] = 0\n",
        "      continue\n",
        "    \n",
        "    # 'probs' stands for probabilities\n",
        "    action_probs = pi[state]\n",
        "    new_V = 0\n",
        "\n",
        "    # (3) Access to each action\n",
        "    for action, action_prob in action_probs.items():\n",
        "      next_state = env.next_state(state, action)\n",
        "      r = env.reward(state, action, next_state)\n",
        "      # (4) New value function\n",
        "      new_V += action_prob * (r + gamma * V[next_state])\n",
        "    V[state] = new_V\n",
        "  return V"
      ],
      "metadata": {
        "id": "cul4C2eUaEMO"
      },
      "execution_count": 24,
      "outputs": []
    },
    {
      "cell_type": "code",
      "source": [
        "def policy_eval(pi, V, env, gamma, threshold=0.001):\n",
        "  while True:\n",
        "    # Vale function before update\n",
        "    old_V = V.copy()\n",
        "    V = eval_onestep(pi, V, env, gamma)\n",
        "\n",
        "    # Find the maximum value of the updated quantity\n",
        "    delta = 0\n",
        "    for state in V.keys():\n",
        "      t = abs(V[state] - old_V[state])\n",
        "      if delta < t:\n",
        "        delta = t\n",
        "    \n",
        "    # Comparison with threshold\n",
        "    if delta < threshold:\n",
        "      break\n",
        "  return V"
      ],
      "metadata": {
        "id": "SSu4HMXDcF5I"
      },
      "execution_count": 25,
      "outputs": []
    },
    {
      "cell_type": "code",
      "source": [
        "env = GridWorld()\n",
        "gamma = 0.9\n",
        "\n",
        "pi = defaultdict(lambda: {0: 0.25, 1: 0.25, 2: 0.25, 3: 0.25})\n",
        "V = defaultdict(lambda: 0)\n",
        "\n",
        "V = policy_eval(pi, V, env, gamma)\n",
        "env.render_v(V, pi)"
      ],
      "metadata": {
        "colab": {
          "base_uri": "https://localhost:8080/",
          "height": 252
        },
        "id": "yt95YP-dda69",
        "outputId": "06c818c2-a8f0-46ac-da3c-d1f9b7cfd948"
      },
      "execution_count": 26,
      "outputs": [
        {
          "output_type": "display_data",
          "data": {
            "text/plain": [
              "<Figure size 432x288 with 1 Axes>"
            ],
            "image/png": "[encoded data removed]"
          },
          "metadata": {}
        }
      ]
    },
    {
      "cell_type": "markdown",
      "source": [
        "## 4.4 Policy Iteration Implementation"
      ],
      "metadata": {
        "id": "dxj2Thf9jG4W"
      }
    },
    {
      "cell_type": "markdown",
      "source": [
        "### 4.4.1 Improvement of measures"
      ],
      "metadata": {
        "id": "aUCHNNehk-t0"
      }
    },
    {
      "cell_type": "code",
      "source": [
        "def argmax(d):\n",
        "  max_value = max(d.values())\n",
        "  max_key = 0\n",
        "  for key, value in d.items():\n",
        "    if value == max_value:\n",
        "      max_key = key\n",
        "  return max_key"
      ],
      "metadata": {
        "id": "kJ7vV1ZplI2p"
      },
      "execution_count": 27,
      "outputs": []
    },
    {
      "cell_type": "code",
      "source": [
        "action_values = {0: 0.1, 1: -0.3, 2: 9.9, 3: -1.3}\n",
        "\n",
        "max_action = argmax(action_values)\n",
        "print(max_action)"
      ],
      "metadata": {
        "colab": {
          "base_uri": "https://localhost:8080/"
        },
        "id": "YyPY2zKQllhW",
        "outputId": "15c1fab4-8361-4f45-a60b-921ef0c2bcfb"
      },
      "execution_count": 28,
      "outputs": [
        {
          "output_type": "stream",
          "name": "stdout",
          "text": [
            "2\n"
          ]
        }
      ]
    },
    {
      "cell_type": "code",
      "source": [
        "def greedy_policy(V, env, gamma):\n",
        "  pi = {}\n",
        "\n",
        "  for state in env.states():\n",
        "    action_values = {}\n",
        "\n",
        "    for action in env.actions():\n",
        "      next_state = env.next_state(state, action)\n",
        "      r = env.reward(state, action, next_state)\n",
        "      value = r + gamma * V[next_state]\n",
        "      action_values[action] = value\n",
        "\n",
        "      max_action = argmax(action_values)\n",
        "      action_probs = {0: 0, 1: 0, 2: 0, 3: 0}\n",
        "      action_probs[max_action] = 1.0\n",
        "      pi[state] = action_probs\n",
        "  return pi"
      ],
      "metadata": {
        "id": "IH7y3-LZl0VD"
      },
      "execution_count": 29,
      "outputs": []
    },
    {
      "cell_type": "code",
      "source": [
        "def policy_iter(env, gamma, threshold=0.001, is_render=True):\n",
        "  pi = defaultdict(lambda: {0: 0.25, 1: 0.25, 2: 0.25, 3: 0.25})\n",
        "  V = defaultdict(lambda: 0)\n",
        "\n",
        "  while True:\n",
        "    # (1) evaluation\n",
        "    V = policy_eval(pi, V, env, gamma, threshold)\n",
        "    # (2) improvement\n",
        "    new_pi = greedy_policy(V, env, gamma)\n",
        "\n",
        "    if is_render:\n",
        "      env.render_v(V, pi)\n",
        "    \n",
        "    # (3) Update Check\n",
        "    if new_pi == pi:\n",
        "      break\n",
        "    pi = new_pi\n",
        "\n",
        "  return pi"
      ],
      "metadata": {
        "id": "MAGFeOUtm2Ti"
      },
      "execution_count": 30,
      "outputs": []
    },
    {
      "cell_type": "code",
      "source": [
        "env = GridWorld()\n",
        "gamma = 0.9\n",
        "pi = policy_iter(env, gamma)"
      ],
      "metadata": {
        "colab": {
          "base_uri": "https://localhost:8080/",
          "height": 1000
        },
        "id": "7BY-aQ6QoA3V",
        "outputId": "f172000d-6b81-4d09-8ebc-f28a03b1bb2d"
      },
      "execution_count": 31,
      "outputs": [
        {
          "output_type": "display_data",
          "data": {
            "text/plain": [
              "<Figure size 432x288 with 1 Axes>"
            ],
            "image/png": "[encoded data removed]"
          },
          "metadata": {}
        },
        {
          "output_type": "display_data",
          "data": {
            "text/plain": [
              "<Figure size 432x288 with 1 Axes>"
            ],
            "image/png": "[encoded data removed]"
          },
          "metadata": {}
        },
        {
          "output_type": "display_data",
          "data": {
            "text/plain": [
              "<Figure size 432x288 with 1 Axes>"
            ],
            "image/png": "[encoded data removed]"
          },
          "metadata": {}
        },
        {
          "output_type": "display_data",
          "data": {
            "text/plain": [
              "<Figure size 432x288 with 1 Axes>"
            ],
            "image/png": "[encoded data removed]"
          },
          "metadata": {}
        },
        {
          "output_type": "display_data",
          "data": {
            "text/plain": [
              "<Figure size 432x288 with 1 Axes>"
            ],
            "image/png": "[encoded data removed]"
          },
          "metadata": {}
        }
      ]
    },
    {
      "cell_type": "code",
      "source": [
        "def value_iter_onestep(V, env, gamma):\n",
        "    for state in env.states():\n",
        "        if state == env.goal_state:\n",
        "            V[state] = 0\n",
        "            continue\n",
        "\n",
        "        action_values = []\n",
        "        for action in env.actions():\n",
        "            next_state = env.next_state(state, action)\n",
        "            r = env.reward(state, action, next_state)\n",
        "            value = r + gamma * V[next_state]\n",
        "            action_values.append(value)\n",
        "\n",
        "        V[state] = max(action_values)\n",
        "    return V"
      ],
      "metadata": {
        "id": "36VfQpokoRW4"
      },
      "execution_count": 32,
      "outputs": []
    },
    {
      "cell_type": "code",
      "source": [
        "def value_iter(V, env, gamma, threshold=0.001, is_render=True):\n",
        "    while True:\n",
        "        if is_render:\n",
        "            env.render_v(V)\n",
        "\n",
        "        old_V = V.copy()\n",
        "        V = value_iter_onestep(V, env, gamma)\n",
        "\n",
        "        delta = 0\n",
        "        for state in V.keys():\n",
        "            t = abs(V[state] - old_V[state])\n",
        "            if delta < t:\n",
        "                delta = t\n",
        "\n",
        "        if delta < threshold:\n",
        "            break\n",
        "    return V"
      ],
      "metadata": {
        "id": "wPyiPvqZr360"
      },
      "execution_count": 33,
      "outputs": []
    },
    {
      "cell_type": "code",
      "source": [
        "V = defaultdict(lambda: 0)\n",
        "env = GridWorld()\n",
        "gamma = 0.9\n",
        "\n",
        "V = value_iter(V, env, gamma)\n",
        "\n",
        "pi = greedy_policy(V, env, gamma)\n",
        "env.render_v(V, pi)"
      ],
      "metadata": {
        "colab": {
          "base_uri": "https://localhost:8080/",
          "height": 1000
        },
        "id": "CaWIQm1jswI9",
        "outputId": "37b52977-63fb-49a2-864f-77446016b2e5"
      },
      "execution_count": 34,
      "outputs": [
        {
          "output_type": "display_data",
          "data": {
            "text/plain": [
              "<Figure size 432x288 with 1 Axes>"
            ],
            "image/png": "[encoded data removed]"
          },
          "metadata": {}
        },
        {
          "output_type": "display_data",
          "data": {
            "text/plain": [
              "<Figure size 432x288 with 1 Axes>"
            ],
            "image/png": "[encoded data removed]"
          },
          "metadata": {}
        },
        {
          "output_type": "display_data",
          "data": {
            "text/plain": [
              "<Figure size 432x288 with 1 Axes>"
            ],
            "image/png": "[encoded data removed]"
          },
          "metadata": {}
        },
        {
          "output_type": "display_data",
          "data": {
            "text/plain": [
              "<Figure size 432x288 with 1 Axes>"
            ],
            "image/png": "[encoded data removed]"
          },
          "metadata": {}
        },
        {
          "output_type": "display_data",
          "data": {
            "text/plain": [
              "<Figure size 432x288 with 1 Axes>"
            ],
            "image/png": "[encoded data removed]"
          },
          "metadata": {}
        }
      ]
    },
    {
      "cell_type": "markdown",
      "source": [
        "# Chapter 5 Monte Carlo method"
      ],
      "metadata": {
        "id": "vRUd6FP2tJX2"
      }
    },
    {
      "cell_type": "markdown",
      "source": [
        "## 5.1 Basics of Monte Carlo Method"
      ],
      "metadata": {
        "id": "QvSHf8Qc67jj"
      }
    },
    {
      "cell_type": "markdown",
      "source": [
        "### 5.1.1 Sum of the dice"
      ],
      "metadata": {
        "id": "FrWOtHox7Lnr"
      }
    },
    {
      "cell_type": "code",
      "source": [
        "ps = {2: 1/36, 3: 2/36, 4: 3/36, 5: 4/36, 6: 5/36, 7: 6/36,\n",
        "      8: 5/36, 9: 4/36, 10: 3/36, 11: 2/36, 12: 1/36}\n",
        "\n",
        "V = 0\n",
        "for x, p in ps.items():\n",
        "  V += x*p\n",
        "print(V)"
      ],
      "metadata": {
        "colab": {
          "base_uri": "https://localhost:8080/"
        },
        "id": "C7bHUvhh7Uop",
        "outputId": "3e72ab02-3ede-46c7-a3f4-1189b7085aaa"
      },
      "execution_count": 35,
      "outputs": [
        {
          "output_type": "stream",
          "name": "stdout",
          "text": [
            "6.999999999999999\n"
          ]
        }
      ]
    },
    {
      "cell_type": "code",
      "source": [
        "import numpy as np\n",
        "\n",
        "def sample(dices=2):\n",
        "  x = 0\n",
        "  for _ in range(dices):\n",
        "    x += np.random.choice([1, 2, 3, 4, 5, 6])\n",
        "  return x"
      ],
      "metadata": {
        "id": "gT_iG2ua73_z"
      },
      "execution_count": 36,
      "outputs": []
    },
    {
      "cell_type": "code",
      "source": [
        "print(sample())\n",
        "print(sample())\n",
        "print(sample())"
      ],
      "metadata": {
        "colab": {
          "base_uri": "https://localhost:8080/"
        },
        "id": "op2926W48Tsw",
        "outputId": "f1fe9c93-755f-499d-bf53-9e69cc57df0c"
      },
      "execution_count": 37,
      "outputs": [
        {
          "output_type": "stream",
          "name": "stdout",
          "text": [
            "6\n",
            "6\n",
            "12\n"
          ]
        }
      ]
    },
    {
      "cell_type": "markdown",
      "source": [
        "### 5.1.3 Monte Carlo implementation"
      ],
      "metadata": {
        "id": "O0buvGxJ8aE3"
      }
    },
    {
      "cell_type": "code",
      "source": [
        "trial = 1000\n",
        "samples = []\n",
        "for _ in range(trial):\n",
        "  s = sample()\n",
        "  samples.append(s)\n",
        "\n",
        "# find the mean\n",
        "V = sum(samples) / len(samples)\n",
        "print(V)"
      ],
      "metadata": {
        "colab": {
          "base_uri": "https://localhost:8080/"
        },
        "id": "BMD0-iAy8vrS",
        "outputId": "096f08b0-fb05-4997-dff3-e409ae6c7bcf"
      },
      "execution_count": 38,
      "outputs": [
        {
          "output_type": "stream",
          "name": "stdout",
          "text": [
            "6.902\n"
          ]
        }
      ]
    },
    {
      "cell_type": "code",
      "source": [
        "trial = 1000\n",
        "\n",
        "samples = []\n",
        "for _ in range(trial):\n",
        "  s = sample()\n",
        "  samples.append(s)\n",
        "  # Calculate the average each time\n",
        "  V = sum(samples) / len(samples)\n",
        "  print(V)"
      ],
      "metadata": {
        "id": "sdJ34y6r9Dae",
        "colab": {
          "base_uri": "https://localhost:8080/"
        },
        "outputId": "84513aea-f320-48ea-f43d-732120f1ff00"
      },
      "execution_count": 39,
      "outputs": [
        {
          "output_type": "stream",
          "name": "stdout",
          "text": [
            "6.0\n",
            "5.5\n",
            "6.0\n",
            "6.75\n",
            "6.6\n",
            "6.5\n",
            "6.571428571428571\n",
            "6.25\n",
            "6.222222222222222\n",
            "6.2\n",
            "6.636363636363637\n",
            "6.833333333333333\n",
            "6.769230769230769\n",
            "6.857142857142857\n",
            "6.733333333333333\n",
            "6.6875\n",
            "6.705882352941177\n",
            "6.611111111111111\n",
            "6.684210526315789\n",
            "6.55\n",
            "6.476190476190476\n",
            "6.590909090909091\n",
            "6.695652173913044\n",
            "6.541666666666667\n",
            "6.52\n",
            "6.461538461538462\n",
            "6.481481481481482\n",
            "6.535714285714286\n",
            "6.517241379310345\n",
            "6.533333333333333\n",
            "6.451612903225806\n",
            "6.625\n",
            "6.545454545454546\n",
            "6.588235294117647\n",
            "6.514285714285714\n",
            "6.472222222222222\n",
            "6.405405405405405\n",
            "6.421052631578948\n",
            "6.487179487179487\n",
            "6.475\n",
            "6.439024390243903\n",
            "6.523809523809524\n",
            "6.558139534883721\n",
            "6.636363636363637\n",
            "6.7555555555555555\n",
            "6.804347826086956\n",
            "6.702127659574468\n",
            "6.75\n",
            "6.73469387755102\n",
            "6.78\n",
            "6.686274509803922\n",
            "6.653846153846154\n",
            "6.660377358490566\n",
            "6.592592592592593\n",
            "6.672727272727273\n",
            "6.678571428571429\n",
            "6.719298245614035\n",
            "6.706896551724138\n",
            "6.661016949152542\n",
            "6.7\n",
            "6.737704918032787\n",
            "6.741935483870968\n",
            "6.761904761904762\n",
            "6.765625\n",
            "6.769230769230769\n",
            "6.757575757575758\n",
            "6.82089552238806\n",
            "6.852941176470588\n",
            "6.869565217391305\n",
            "6.942857142857143\n",
            "6.901408450704225\n",
            "6.944444444444445\n",
            "6.931506849315069\n",
            "6.986486486486487\n",
            "7.013333333333334\n",
            "6.9605263157894735\n",
            "6.935064935064935\n",
            "6.935897435897436\n",
            "6.949367088607595\n",
            "6.95\n",
            "6.925925925925926\n",
            "6.926829268292683\n",
            "6.9156626506024095\n",
            "6.916666666666667\n",
            "6.91764705882353\n",
            "6.872093023255814\n",
            "6.839080459770115\n",
            "6.818181818181818\n",
            "6.764044943820225\n",
            "6.788888888888889\n",
            "6.802197802197802\n",
            "6.804347826086956\n",
            "6.838709677419355\n",
            "6.819148936170213\n",
            "6.852631578947369\n",
            "6.822916666666667\n",
            "6.77319587628866\n",
            "6.744897959183674\n",
            "6.747474747474747\n",
            "6.75\n",
            "6.712871287128713\n",
            "6.696078431372549\n",
            "6.699029126213592\n",
            "6.6826923076923075\n",
            "6.6571428571428575\n",
            "6.669811320754717\n",
            "6.691588785046729\n",
            "6.722222222222222\n",
            "6.761467889908257\n",
            "6.7727272727272725\n",
            "6.72972972972973\n",
            "6.75\n",
            "6.761061946902655\n",
            "6.719298245614035\n",
            "6.695652173913044\n",
            "6.698275862068965\n",
            "6.717948717948718\n",
            "6.728813559322034\n",
            "6.722689075630252\n",
            "6.708333333333333\n",
            "6.68595041322314\n",
            "6.704918032786885\n",
            "6.7073170731707314\n",
            "6.725806451612903\n",
            "6.712\n",
            "6.753968253968254\n",
            "6.748031496062992\n",
            "6.75\n",
            "6.782945736434108\n",
            "6.776923076923077\n",
            "6.809160305343512\n",
            "6.787878787878788\n",
            "6.796992481203008\n",
            "6.798507462686567\n",
            "6.814814814814815\n",
            "6.838235294117647\n",
            "6.839416058394161\n",
            "6.869565217391305\n",
            "6.870503597122302\n",
            "6.864285714285714\n",
            "6.851063829787234\n",
            "6.873239436619718\n",
            "6.888111888111888\n",
            "6.895833333333333\n",
            "6.896551724137931\n",
            "6.890410958904109\n",
            "6.904761904761905\n",
            "6.9391891891891895\n",
            "6.959731543624161\n",
            "6.946666666666666\n",
            "6.9801324503311255\n",
            "6.993421052631579\n",
            "6.993464052287582\n",
            "6.9935064935064934\n",
            "6.993548387096774\n",
            "6.9743589743589745\n",
            "6.955414012738854\n",
            "6.955696202531645\n",
            "6.962264150943396\n",
            "6.95\n",
            "6.962732919254658\n",
            "6.981481481481482\n",
            "7.0\n",
            "6.9817073170731705\n",
            "6.9818181818181815\n",
            "6.981927710843373\n",
            "6.958083832335329\n",
            "6.934523809523809\n",
            "6.940828402366864\n",
            "6.964705882352941\n",
            "6.964912280701754\n",
            "6.97093023255814\n",
            "6.971098265895954\n",
            "6.948275862068965\n",
            "6.9314285714285715\n",
            "6.909090909090909\n",
            "6.892655367231638\n",
            "6.893258426966292\n",
            "6.888268156424581\n",
            "6.883333333333334\n",
            "6.867403314917127\n",
            "6.862637362637362\n",
            "6.868852459016393\n",
            "6.875\n",
            "6.881081081081081\n",
            "6.870967741935484\n",
            "6.898395721925134\n",
            "6.898936170212766\n",
            "6.904761904761905\n",
            "6.9\n",
            "6.9267015706806285\n",
            "6.932291666666667\n",
            "6.917098445595855\n",
            "6.93298969072165\n",
            "6.933333333333334\n",
            "6.913265306122449\n",
            "6.9238578680203045\n",
            "6.924242424242424\n",
            "6.899497487437186\n",
            "6.89\n",
            "6.895522388059701\n",
            "6.896039603960396\n",
            "6.891625615763547\n",
            "6.872549019607843\n",
            "6.878048780487805\n",
            "6.878640776699029\n",
            "6.884057971014493\n",
            "6.8798076923076925\n",
            "6.885167464114833\n",
            "6.885714285714286\n",
            "6.895734597156398\n",
            "6.900943396226415\n",
            "6.896713615023474\n",
            "6.897196261682243\n",
            "6.911627906976745\n",
            "6.912037037037037\n",
            "6.917050691244239\n",
            "6.912844036697248\n",
            "6.926940639269406\n",
            "6.922727272727273\n",
            "6.914027149321267\n",
            "6.927927927927928\n",
            "6.923766816143497\n",
            "6.924107142857143\n",
            "6.942222222222222\n",
            "6.929203539823009\n",
            "6.9118942731277535\n",
            "6.9298245614035086\n",
            "6.93886462882096\n",
            "6.934782608695652\n",
            "6.9437229437229435\n",
            "6.948275862068965\n",
            "6.969957081545064\n",
            "6.978632478632479\n",
            "6.974468085106383\n",
            "6.995762711864407\n",
            "6.991561181434599\n",
            "7.004201680672269\n",
            "6.99163179916318\n",
            "6.9875\n",
            "6.987551867219917\n",
            "6.987603305785124\n",
            "7.0\n",
            "6.987704918032787\n",
            "7.0\n",
            "7.008130081300813\n",
            "7.008097165991903\n",
            "7.024193548387097\n",
            "7.0120481927710845\n",
            "7.024\n",
            "7.00796812749004\n",
            "7.007936507936508\n",
            "7.019762845849803\n",
            "7.02755905511811\n",
            "7.031372549019608\n",
            "7.01953125\n",
            "7.019455252918288\n",
            "7.023255813953488\n",
            "7.003861003861004\n",
            "7.003846153846154\n",
            "7.0\n",
            "7.0\n",
            "7.003802281368821\n",
            "7.0\n",
            "6.992452830188679\n",
            "7.0\n",
            "6.992509363295881\n",
            "6.992537313432836\n",
            "7.003717472118959\n",
            "7.003703703703704\n",
            "6.992619926199262\n",
            "6.992647058823529\n",
            "7.007326007326007\n",
            "6.989051094890511\n",
            "7.0\n",
            "6.992753623188406\n",
            "6.9891696750902526\n",
            "6.974820143884892\n",
            "6.978494623655914\n",
            "6.9678571428571425\n",
            "6.967971530249111\n",
            "6.957446808510638\n",
            "6.968197879858657\n",
            "6.982394366197183\n",
            "6.982456140350878\n",
            "6.989510489510489\n",
            "6.986062717770035\n",
            "6.982638888888889\n",
            "6.989619377162629\n",
            "6.993103448275862\n",
            "6.986254295532646\n",
            "6.989726027397261\n",
            "6.979522184300341\n",
            "6.962585034013605\n",
            "6.952542372881356\n",
            "6.956081081081081\n",
            "6.956228956228956\n",
            "6.959731543624161\n",
            "6.956521739130435\n",
            "6.956666666666667\n",
            "6.953488372093023\n",
            "6.960264900662252\n",
            "6.9537953795379535\n",
            "6.957236842105263\n",
            "6.9573770491803275\n",
            "6.967320261437909\n",
            "6.964169381107492\n",
            "6.957792207792208\n",
            "6.961165048543689\n",
            "6.95483870967742\n",
            "6.958199356913183\n",
            "6.967948717948718\n",
            "6.958466453674121\n",
            "6.955414012738854\n",
            "6.958730158730159\n",
            "6.94620253164557\n",
            "6.946372239747634\n",
            "6.946540880503145\n",
            "6.9498432601880875\n",
            "6.95625\n",
            "6.947040498442368\n",
            "6.953416149068323\n",
            "6.947368421052632\n",
            "6.947530864197531\n",
            "6.938461538461539\n",
            "6.935582822085889\n",
            "6.92354740061162\n",
            "6.911585365853658\n",
            "6.90273556231003\n",
            "6.918181818181818\n",
            "6.918429003021148\n",
            "6.921686746987952\n",
            "6.918918918918919\n",
            "6.925149700598802\n",
            "6.937313432835821\n",
            "6.9226190476190474\n",
            "6.928783382789318\n",
            "6.92603550295858\n",
            "6.926253687315635\n",
            "6.938235294117647\n",
            "6.93841642228739\n",
            "6.923976608187134\n",
            "6.930029154518951\n",
            "6.924418604651163\n",
            "6.936231884057971\n",
            "6.9393063583815024\n",
            "6.930835734870317\n",
            "6.922413793103448\n",
            "6.934097421203439\n",
            "6.94\n",
            "6.94017094017094\n",
            "6.943181818181818\n",
            "6.954674220963173\n",
            "6.951977401129944\n",
            "6.966197183098592\n",
            "6.96067415730337\n",
            "6.957983193277311\n",
            "6.9525139664804465\n",
            "6.958217270194986\n",
            "6.961111111111111\n",
            "6.96398891966759\n",
            "6.958563535911602\n",
            "6.964187327823692\n",
            "6.956043956043956\n",
            "6.945205479452055\n",
            "6.942622950819672\n",
            "6.94550408719346\n",
            "6.948369565217392\n",
            "6.951219512195122\n",
            "6.943243243243243\n",
            "6.946091644204852\n",
            "6.943548387096774\n",
            "6.946380697050938\n",
            "6.933155080213904\n",
            "6.922666666666666\n",
            "6.917553191489362\n",
            "6.912466843501326\n",
            "6.91005291005291\n",
            "6.910290237467018\n",
            "6.921052631578948\n",
            "6.921259842519685\n",
            "6.93455497382199\n",
            "6.926892950391645\n",
            "6.916666666666667\n",
            "6.922077922077922\n",
            "6.919689119170984\n",
            "6.925064599483204\n",
            "6.930412371134021\n",
            "6.943444730077121\n",
            "6.9512820512820515\n",
            "6.946291560102302\n",
            "6.941326530612245\n",
            "6.9414758269720105\n",
            "6.928934010152284\n",
            "6.9291139240506325\n",
            "6.934343434343434\n",
            "6.934508816120907\n",
            "6.932160804020101\n",
            "6.927318295739348\n",
            "6.9375\n",
            "6.942643391521197\n",
            "6.945273631840796\n",
            "6.9528535980148884\n",
            "6.955445544554456\n",
            "6.945679012345679\n",
            "6.948275862068965\n",
            "6.941031941031941\n",
            "6.946078431372549\n",
            "6.9486552567237165\n",
            "6.9487804878048784\n",
            "6.958637469586375\n",
            "6.95873786407767\n",
            "6.953995157384988\n",
            "6.956521739130435\n",
            "6.951807228915663\n",
            "6.947115384615385\n",
            "6.942446043165468\n",
            "6.935406698564593\n",
            "6.935560859188544\n",
            "6.942857142857143\n",
            "6.947743467933492\n",
            "6.943127962085308\n",
            "6.9361702127659575\n",
            "6.936320754716981\n",
            "6.945882352941177\n",
            "6.955399061032864\n",
            "6.95784543325527\n",
            "6.955607476635514\n",
            "6.9557109557109555\n",
            "6.9581395348837205\n",
            "6.958236658932715\n",
            "6.953703703703703\n",
            "6.958429561200924\n",
            "6.949308755760368\n",
            "6.95632183908046\n",
            "6.9610091743119265\n",
            "6.951945080091533\n",
            "6.949771689497717\n",
            "6.943052391799545\n",
            "6.9363636363636365\n",
            "6.929705215419501\n",
            "6.923076923076923\n",
            "6.914221218961625\n",
            "6.90990990990991\n",
            "6.91685393258427\n",
            "6.917040358744394\n",
            "6.914988814317673\n",
            "6.926339285714286\n",
            "6.9309576837416484\n",
            "6.937777777777778\n",
            "6.940133037694014\n",
            "6.938053097345133\n",
            "6.933774834437086\n",
            "6.931718061674009\n",
            "6.9362637362637365\n",
            "6.93859649122807\n",
            "6.945295404814004\n",
            "6.951965065502184\n",
            "6.96078431372549\n",
            "6.960869565217391\n",
            "6.96529284164859\n",
            "6.967532467532467\n",
            "6.9654427645788335\n",
            "6.961206896551724\n",
            "6.95483870967742\n",
            "6.954935622317596\n",
            "6.950749464668094\n",
            "6.948717948717949\n",
            "6.948827292110874\n",
            "6.9425531914893615\n",
            "6.953290870488322\n",
            "6.944915254237288\n",
            "6.95137420718816\n",
            "6.949367088607595\n",
            "6.957894736842105\n",
            "6.9600840336134455\n",
            "6.9580712788259955\n",
            "6.964435146443515\n",
            "6.9728601252609606\n",
            "6.970833333333333\n",
            "6.968814968814969\n",
            "6.973029045643154\n",
            "6.975155279503106\n",
            "6.9772727272727275\n",
            "6.97319587628866\n",
            "6.979423868312757\n",
            "6.979466119096509\n",
            "6.973360655737705\n",
            "6.973415132924336\n",
            "6.973469387755102\n",
            "6.973523421588594\n",
            "6.975609756097561\n",
            "6.975659229208925\n",
            "6.967611336032388\n",
            "6.957575757575758\n",
            "6.949596774193548\n",
            "6.955734406438632\n",
            "6.959839357429719\n",
            "6.9579158316633265\n",
            "6.956\n",
            "6.952095808383233\n",
            "6.956175298804781\n",
            "6.956262425447316\n",
            "6.954365079365079\n",
            "6.9504950495049505\n",
            "6.958498023715415\n",
            "6.954635108481263\n",
            "6.9547244094488185\n",
            "6.964636542239686\n",
            "6.972549019607843\n",
            "6.970645792563601\n",
            "6.97265625\n",
            "6.968810916179337\n",
            "6.963035019455253\n",
            "6.966990291262136\n",
            "6.963178294573644\n",
            "6.965183752417795\n",
            "6.967181467181467\n",
            "6.957610789980732\n",
            "6.9557692307692305\n",
            "6.959692898272553\n",
            "6.954022988505747\n",
            "6.95602294455067\n",
            "6.958015267175573\n",
            "6.96\n",
            "6.952471482889734\n",
            "6.943074003795067\n",
            "6.9393939393939394\n",
            "6.937618147448015\n",
            "6.939622641509434\n",
            "6.939736346516008\n",
            "6.93984962406015\n",
            "6.938086303939962\n",
            "6.930711610486892\n",
            "6.930841121495327\n",
            "6.9309701492537314\n",
            "6.940409683426443\n",
            "6.936802973977695\n",
            "6.938775510204081\n",
            "6.938888888888889\n",
            "6.942698706099815\n",
            "6.944649446494465\n",
            "6.94475138121547\n",
            "6.944852941176471\n",
            "6.95045871559633\n",
            "6.946886446886447\n",
            "6.948811700182816\n",
            "6.945255474452555\n",
            "6.943533697632058\n",
            "6.941818181818181\n",
            "6.94010889292196\n",
            "6.938405797101449\n",
            "6.942133815551537\n",
            "6.94043321299639\n",
            "6.944144144144144\n",
            "6.9496402877697845\n",
            "6.956912028725315\n",
            "6.948028673835125\n",
            "6.953488372093023\n",
            "6.953571428571428\n",
            "6.951871657754011\n",
            "6.9537366548042705\n",
            "6.950266429840142\n",
            "6.952127659574468\n",
            "6.943362831858407\n",
            "6.938162544169611\n",
            "6.931216931216931\n",
            "6.931338028169014\n",
            "6.933216168717047\n",
            "6.926315789473684\n",
            "6.933450087565674\n",
            "6.931818181818182\n",
            "6.9319371727748695\n",
            "6.93205574912892\n",
            "6.932173913043478\n",
            "6.930555555555555\n",
            "6.932409012131716\n",
            "6.9342560553633215\n",
            "6.9360967184801385\n",
            "6.932758620689655\n",
            "6.934595524956971\n",
            "6.939862542955327\n",
            "6.941680960548885\n",
            "6.938356164383562\n",
            "6.936752136752137\n",
            "6.933447098976109\n",
            "6.928449744463373\n",
            "6.933673469387755\n",
            "6.942275042444821\n",
            "6.942372881355932\n",
            "6.94585448392555\n",
            "6.947635135135135\n",
            "6.956155143338955\n",
            "6.957912457912458\n",
            "6.963025210084034\n",
            "6.9630872483221475\n",
            "6.958123953098827\n",
            "6.953177257525083\n",
            "6.954924874791319\n",
            "6.95\n",
            "6.951747088186356\n",
            "6.953488372093023\n",
            "6.951907131011609\n",
            "6.9552980132450335\n",
            "6.952066115702479\n",
            "6.9537953795379535\n",
            "6.948929159802306\n",
            "6.9555921052631575\n",
            "6.9507389162561575\n",
            "6.9557377049180324\n",
            "6.95253682487725\n",
            "6.957516339869281\n",
            "6.952691680261012\n",
            "6.95928338762215\n",
            "6.957723577235773\n",
            "6.957792207792208\n",
            "6.961102106969205\n",
            "6.964401294498382\n",
            "6.969305331179322\n",
            "6.970967741935484\n",
            "6.979066022544283\n",
            "6.983922829581994\n",
            "6.990369181380418\n",
            "6.985576923076923\n",
            "6.9792\n",
            "6.979233226837061\n",
            "6.984051036682616\n",
            "6.987261146496815\n",
            "6.984101748807631\n",
            "6.988888888888889\n",
            "6.990491283676704\n",
            "6.985759493670886\n",
            "6.992101105845181\n",
            "6.993690851735016\n",
            "6.995275590551181\n",
            "6.998427672955975\n",
            "7.003139717425432\n",
            "7.0\n",
            "7.001564945226917\n",
            "7.003125\n",
            "6.998439937597504\n",
            "7.0\n",
            "6.996889580093312\n",
            "6.9937888198757765\n",
            "6.9875968992248065\n",
            "6.984520123839009\n",
            "6.978361669242658\n",
            "6.978395061728395\n",
            "6.979969183359014\n",
            "6.973846153846154\n",
            "6.970814132104454\n",
            "6.976993865030675\n",
            "6.975497702909648\n",
            "6.980122324159021\n",
            "6.981679389312977\n",
            "6.977134146341464\n",
            "6.983257229832573\n",
            "6.9832826747720365\n",
            "6.986342943854325\n",
            "6.989393939393939\n",
            "6.992435703479576\n",
            "6.993957703927492\n",
            "6.995475113122172\n",
            "6.996987951807229\n",
            "7.001503759398497\n",
            "6.998498498498498\n",
            "6.992503748125937\n",
            "6.994011976047904\n",
            "6.995515695067264\n",
            "6.997014925373135\n",
            "7.0\n",
            "7.001488095238095\n",
            "6.99554234769688\n",
            "6.98813056379822\n",
            "6.9911111111111115\n",
            "6.985207100591716\n",
            "6.980797636632201\n",
            "6.977876106194691\n",
            "6.979381443298969\n",
            "6.980882352941176\n",
            "6.983847283406755\n",
            "6.988269794721408\n",
            "6.9941434846266475\n",
            "6.991228070175438\n",
            "6.995620437956204\n",
            "6.989795918367347\n",
            "6.986899563318778\n",
            "6.9898255813953485\n",
            "6.989840348330914\n",
            "6.994202898550725\n",
            "6.992764109985528\n",
            "6.9898843930635834\n",
            "6.9855699855699855\n",
            "6.979827089337176\n",
            "6.979856115107913\n",
            "6.9798850574712645\n",
            "6.987087517934003\n",
            "6.98567335243553\n",
            "6.985693848354792\n",
            "6.9871428571428575\n",
            "6.981455064194009\n",
            "6.977207977207978\n",
            "6.97724039829303\n",
            "6.981534090909091\n",
            "6.984397163120567\n",
            "6.984419263456091\n",
            "6.981612446958982\n",
            "6.980225988700565\n",
            "6.976022566995769\n",
            "6.98169014084507\n",
            "6.981715893108298\n",
            "6.980337078651686\n",
            "6.985974754558205\n",
            "6.987394957983193\n",
            "6.986013986013986\n",
            "6.990223463687151\n",
            "6.99023709902371\n",
            "6.988857938718663\n",
            "6.9944367176634215\n",
            "6.9944444444444445\n",
            "6.995839112343966\n",
            "6.9944598337950135\n",
            "6.995850622406639\n",
            "6.997237569060774\n",
            "7.0041379310344825\n",
            "7.005509641873278\n",
            "7.001375515818432\n",
            "7.006868131868132\n",
            "7.005486968449931\n",
            "7.001369863013698\n",
            "7.002735978112175\n",
            "6.997267759562842\n",
            "6.995907230559345\n",
            "6.998637602179836\n",
            "6.994557823129251\n",
            "7.0\n",
            "6.997286295793758\n",
            "6.997289972899729\n",
            "6.998646820027064\n",
            "7.004054054054054\n",
            "7.001349527665317\n",
            "6.998652291105121\n",
            "6.998654104979812\n",
            "7.0\n",
            "7.0\n",
            "7.002680965147453\n",
            "7.005354752342704\n",
            "7.005347593582887\n",
            "7.006675567423231\n",
            "7.001333333333333\n",
            "6.99866844207723\n",
            "7.002659574468085\n",
            "7.00398406374502\n",
            "7.007957559681698\n",
            "7.0039735099337745\n",
            "7.01058201058201\n",
            "7.015852047556143\n",
            "7.013192612137203\n",
            "7.015810276679842\n",
            "7.015789473684211\n",
            "7.015768725361367\n",
            "7.019685039370079\n",
            "7.017038007863696\n",
            "7.019633507853404\n",
            "7.01437908496732\n",
            "7.01958224543081\n",
            "7.016949152542373\n",
            "7.01171875\n",
            "7.016905071521457\n",
            "7.011688311688312\n",
            "7.009079118028534\n",
            "7.0142487046632125\n",
            "7.014230271668823\n",
            "7.012919896640827\n",
            "7.016774193548387\n",
            "7.015463917525773\n",
            "7.012870012870013\n",
            "7.012853470437018\n",
            "7.007702182284981\n",
            "7.007692307692308\n",
            "7.011523687580025\n",
            "7.0115089514066495\n",
            "7.01021711366539\n",
            "7.010204081632653\n",
            "7.008917197452229\n",
            "7.012722646310433\n",
            "7.0127064803049555\n",
            "7.016497461928934\n",
            "7.022813688212928\n",
            "7.021518987341772\n",
            "7.02275600505689\n",
            "7.0227272727272725\n",
            "7.016393442622951\n",
            "7.015113350125945\n",
            "7.013836477987422\n",
            "7.0201005025125625\n",
            "7.020075282308658\n",
            "7.016290726817043\n",
            "7.015018773466833\n",
            "7.01\n",
            "7.012484394506866\n",
            "7.0187032418952615\n",
            "7.021170610211706\n",
            "7.026119402985074\n",
            "7.022360248447205\n",
            "7.027295285359801\n",
            "7.032218091697645\n",
            "7.037128712871287\n",
            "7.043263288009888\n",
            "7.04320987654321\n",
            "7.039457459926017\n",
            "7.041871921182266\n",
            "7.044280442804428\n",
            "7.044226044226044\n",
            "7.049079754601227\n",
            "7.049019607843137\n",
            "7.050183598531212\n",
            "7.050122249388753\n",
            "7.048840048840049\n",
            "7.0512195121951216\n",
            "7.05115712545676\n",
            "7.0535279805352795\n",
            "7.058323207776428\n",
            "7.063106796116505\n",
            "7.0618181818181816\n",
            "7.058111380145278\n",
            "7.058041112454656\n",
            "7.057971014492754\n",
            "7.057901085645356\n",
            "7.053012048192771\n",
            "7.055354993983153\n",
            "7.056490384615385\n",
            "7.055222088835534\n",
            "7.051558752997602\n",
            "7.046706586826347\n",
            "7.04665071770335\n",
            "7.048984468339307\n",
            "7.048926014319809\n",
            "7.045292014302741\n",
            "7.046428571428572\n",
            "7.04756242568371\n",
            "7.045130641330166\n",
            "7.041518386714117\n",
            "7.039099526066351\n",
            "7.0366863905325445\n",
            "7.037825059101655\n",
            "7.031877213695395\n",
            "7.03066037735849\n",
            "7.027090694935218\n",
            "7.021176470588236\n",
            "7.018801410105758\n",
            "7.02112676056338\n",
            "7.015240328253224\n",
            "7.014051522248243\n",
            "7.015204678362573\n",
            "7.011682242990654\n",
            "7.0105017502917155\n",
            "7.010489510489511\n",
            "7.006984866123399\n",
            "7.008139534883721\n",
            "7.005807200929152\n",
            "7.004640371229699\n",
            "7.003476245654693\n",
            "7.00462962962963\n",
            "7.010404624277457\n",
            "7.005773672055427\n",
            "7.002306805074971\n",
            "7.002304147465438\n",
            "7.0\n",
            "6.996551724137931\n",
            "7.001148105625718\n",
            "7.0057339449541285\n",
            "7.011454753722795\n",
            "7.010297482837529\n",
            "7.0045714285714284\n",
            "7.004566210045662\n",
            "7.002280501710376\n",
            "7.0\n",
            "6.996587030716723\n",
            "6.995454545454545\n",
            "6.995459704880817\n",
            "6.992063492063492\n",
            "6.990939977349943\n",
            "6.992081447963801\n",
            "6.9932203389830505\n",
            "6.99097065462754\n",
            "6.992108229988726\n",
            "6.992117117117117\n",
            "6.994375703037121\n",
            "6.9932584269662925\n",
            "6.992143658810326\n",
            "6.987668161434978\n",
            "6.987681970884658\n",
            "6.989932885906041\n",
            "6.988826815642458\n",
            "6.9921875\n",
            "6.986622073578595\n",
            "6.986636971046771\n",
            "6.988876529477197\n",
            "6.9911111111111115\n",
            "6.988901220865705\n",
            "6.992239467849224\n",
            "6.996677740863787\n",
            "6.996681415929204\n",
            "6.997790055248619\n",
            "7.001103752759382\n",
            "7.0\n",
            "7.0\n",
            "7.0\n",
            "7.001098901098901\n",
            "6.996706915477497\n",
            "6.996710526315789\n",
            "7.0\n",
            "6.9945295404814\n",
            "6.99344262295082\n",
            "6.993449781659389\n",
            "6.9945474372955285\n",
            "6.996732026143791\n",
            "6.998911860718172\n",
            "6.998913043478261\n",
            "6.998914223669924\n",
            "6.9989154013015185\n",
            "6.99783315276273\n",
            "6.998917748917749\n",
            "6.997837837837838\n",
            "6.997840172786177\n",
            "6.996763754045308\n",
            "6.997844827586207\n",
            "6.9956942949407965\n",
            "6.993548387096774\n",
            "6.995703544575725\n",
            "6.9957081545064375\n",
            "6.993569131832797\n",
            "6.990364025695931\n",
            "6.9914438502673795\n",
            "6.990384615384615\n",
            "6.993596584845251\n",
            "6.992537313432836\n",
            "6.991480298189563\n",
            "6.99468085106383\n",
            "6.992561105207226\n",
            "6.994692144373673\n",
            "6.994697773064687\n",
            "6.996822033898305\n",
            "6.993650793650794\n",
            "6.990486257928119\n",
            "6.993664202745512\n",
            "6.991561181434599\n",
            "6.992623814541623\n",
            "6.991578947368421\n",
            "6.988433228180862\n",
            "6.986344537815126\n",
            "6.987408184679958\n",
            "6.984276729559748\n",
            "6.986387434554974\n",
            "6.9884937238493725\n",
            "6.985370950888193\n",
            "6.984342379958246\n",
            "6.985401459854015\n",
            "6.982291666666667\n",
            "6.9812695109261185\n",
            "6.982328482328482\n",
            "6.981308411214953\n",
            "6.983402489626556\n",
            "6.983419689119171\n",
            "6.98343685300207\n",
            "6.979317476732161\n",
            "6.979338842975206\n",
            "6.977296181630547\n",
            "6.97319587628866\n",
            "6.9783728115345\n",
            "6.981481481481482\n",
            "6.984583761562178\n",
            "6.986652977412731\n",
            "6.983589743589744\n",
            "6.984631147540983\n",
            "6.981576253838281\n",
            "6.982617586912065\n",
            "6.985699693564862\n",
            "6.981632653061224\n",
            "6.981651376146789\n",
            "6.984725050916497\n",
            "6.9888097660223805\n",
            "6.989837398373984\n",
            "6.991878172588833\n",
            "6.990872210953347\n",
            "6.994934143870314\n",
            "6.993927125506073\n",
            "6.994944388270981\n",
            "6.996969696969697\n",
            "7.0\n",
            "6.995967741935484\n",
            "6.998992950654582\n",
            "7.002012072434607\n",
            "7.005025125628141\n",
            "7.003012048192771\n",
            "7.0030090270812435\n",
            "7.002004008016032\n",
            "7.003003003003003\n",
            "7.004\n"
          ]
        }
      ]
    },
    {
      "cell_type": "code",
      "source": [
        "trial = 1000\n",
        "V, n = 0, 0\n",
        "\n",
        "for _ in range(trial):\n",
        "  s = sample()\n",
        "  n += 1\n",
        "  V += (s - V) / n\n",
        "  print(V)"
      ],
      "metadata": {
        "id": "UnhjAWw5-B-2",
        "colab": {
          "base_uri": "https://localhost:8080/"
        },
        "outputId": "420c808d-9de8-46d0-d2cc-8d579378d6e2"
      },
      "execution_count": 40,
      "outputs": [
        {
          "output_type": "stream",
          "name": "stdout",
          "text": [
            "10.0\n",
            "10.5\n",
            "9.0\n",
            "8.25\n",
            "8.0\n",
            "7.166666666666667\n",
            "7.142857142857143\n",
            "7.375\n",
            "7.333333333333333\n",
            "7.5\n",
            "7.7272727272727275\n",
            "8.083333333333334\n",
            "7.923076923076923\n",
            "8.0\n",
            "8.066666666666666\n",
            "8.1875\n",
            "8.235294117647058\n",
            "8.055555555555555\n",
            "7.894736842105263\n",
            "7.75\n",
            "7.571428571428571\n",
            "7.636363636363636\n",
            "7.565217391304348\n",
            "7.75\n",
            "7.68\n",
            "7.615384615384615\n",
            "7.444444444444444\n",
            "7.428571428571428\n",
            "7.275862068965517\n",
            "7.266666666666667\n",
            "7.161290322580645\n",
            "7.3125\n",
            "7.303030303030303\n",
            "7.1764705882352935\n",
            "7.257142857142856\n",
            "7.277777777777777\n",
            "7.189189189189189\n",
            "7.1842105263157885\n",
            "7.076923076923076\n",
            "7.049999999999999\n",
            "6.999999999999999\n",
            "7.047619047619047\n",
            "7.046511627906976\n",
            "6.999999999999999\n",
            "7.022222222222221\n",
            "7.086956521739129\n",
            "7.170212765957445\n",
            "7.166666666666665\n",
            "7.20408163265306\n",
            "7.139999999999999\n",
            "7.098039215686273\n",
            "7.076923076923076\n",
            "7.132075471698112\n",
            "7.185185185185184\n",
            "7.181818181818181\n",
            "7.232142857142856\n",
            "7.298245614035086\n",
            "7.3103448275862055\n",
            "7.237288135593219\n",
            "7.233333333333332\n",
            "7.278688524590162\n",
            "7.274193548387095\n",
            "7.333333333333332\n",
            "7.312499999999999\n",
            "7.353846153846153\n",
            "7.318181818181817\n",
            "7.298507462686565\n",
            "7.308823529411763\n",
            "7.318840579710143\n",
            "7.314285714285712\n",
            "7.239436619718308\n",
            "7.2222222222222205\n",
            "7.260273972602738\n",
            "7.297297297297296\n",
            "7.306666666666665\n",
            "7.342105263157893\n",
            "7.31168831168831\n",
            "7.3205128205128185\n",
            "7.278481012658226\n",
            "7.312499999999998\n",
            "7.3209876543209855\n",
            "7.268292682926827\n",
            "7.2289156626506\n",
            "7.273809523809521\n",
            "7.223529411764703\n",
            "7.17441860465116\n",
            "7.195402298850572\n",
            "7.204545454545452\n",
            "7.213483146067413\n",
            "7.1999999999999975\n",
            "7.186813186813184\n",
            "7.2173913043478235\n",
            "7.204301075268814\n",
            "7.244680851063827\n",
            "7.231578947368418\n",
            "7.229166666666664\n",
            "7.237113402061853\n",
            "7.183673469387752\n",
            "7.191919191919189\n",
            "7.139999999999998\n",
            "7.099009900990097\n",
            "7.058823529411763\n",
            "7.058252427184464\n",
            "7.105769230769229\n",
            "7.085714285714284\n",
            "7.094339622641507\n",
            "7.102803738317754\n",
            "7.129629629629627\n",
            "7.128440366972475\n",
            "7.118181818181816\n",
            "7.135135135135133\n",
            "7.124999999999998\n",
            "7.132743362831857\n",
            "7.166666666666665\n",
            "7.182608695652172\n",
            "7.172413793103447\n",
            "7.196581196581195\n",
            "7.1779661016949134\n",
            "7.159663865546217\n",
            "7.158333333333332\n",
            "7.1487603305785115\n",
            "7.131147540983606\n",
            "7.138211382113821\n",
            "7.112903225806451\n",
            "7.119999999999999\n",
            "7.111111111111111\n",
            "7.125984251968504\n",
            "7.1328125\n",
            "7.124031007751938\n",
            "7.130769230769231\n",
            "7.1526717557251915\n",
            "7.136363636363637\n",
            "7.105263157894737\n",
            "7.134328358208956\n",
            "7.133333333333334\n",
            "7.139705882352942\n",
            "7.153284671532847\n",
            "7.13768115942029\n",
            "7.129496402877698\n",
            "7.121428571428572\n",
            "7.099290780141844\n",
            "7.112676056338029\n",
            "7.104895104895106\n",
            "7.104166666666668\n",
            "7.110344827586208\n",
            "7.082191780821919\n",
            "7.108843537414967\n",
            "7.128378378378379\n",
            "7.140939597315437\n",
            "7.166666666666667\n",
            "7.178807947019868\n",
            "7.190789473684211\n",
            "7.196078431372549\n",
            "7.188311688311688\n",
            "7.180645161290323\n",
            "7.147435897435898\n",
            "7.159235668789809\n",
            "7.1645569620253164\n",
            "7.163522012578617\n",
            "7.15\n",
            "7.15527950310559\n",
            "7.160493827160494\n",
            "7.141104294478527\n",
            "7.146341463414633\n",
            "7.133333333333333\n",
            "7.120481927710843\n",
            "7.131736526946107\n",
            "7.154761904761904\n",
            "7.171597633136094\n",
            "7.188235294117646\n",
            "7.204678362573099\n",
            "7.209302325581395\n",
            "7.196531791907514\n",
            "7.206896551724138\n",
            "7.228571428571429\n",
            "7.232954545454546\n",
            "7.225988700564972\n",
            "7.252808988764046\n",
            "7.273743016759777\n",
            "7.283333333333334\n",
            "7.287292817679559\n",
            "7.2857142857142865\n",
            "7.273224043715848\n",
            "7.277173913043479\n",
            "7.264864864864866\n",
            "7.236559139784948\n",
            "7.2299465240641725\n",
            "7.2340425531914905\n",
            "7.222222222222223\n",
            "7.242105263157896\n",
            "7.219895287958116\n",
            "7.234375000000001\n",
            "7.233160621761659\n",
            "7.211340206185568\n",
            "7.194871794871796\n",
            "7.198979591836736\n",
            "7.17766497461929\n",
            "7.161616161616163\n",
            "7.1356783919598\n",
            "7.155000000000001\n",
            "7.164179104477613\n",
            "7.178217821782179\n",
            "7.172413793103449\n",
            "7.161764705882354\n",
            "7.151219512195123\n",
            "7.145631067961166\n",
            "7.154589371980678\n",
            "7.16346153846154\n",
            "7.143540669856461\n",
            "7.138095238095239\n",
            "7.142180094786731\n",
            "7.146226415094341\n",
            "7.131455399061034\n",
            "7.140186915887852\n",
            "7.153488372093024\n",
            "7.13888888888889\n",
            "7.1244239631336415\n",
            "7.110091743119267\n",
            "7.118721461187215\n",
            "7.122727272727274\n",
            "7.104072398190047\n",
            "7.094594594594596\n",
            "7.09865470852018\n",
            "7.102678571428572\n",
            "7.097777777777779\n",
            "7.084070796460178\n",
            "7.088105726872248\n",
            "7.0921052631578965\n",
            "7.0960698689956345\n",
            "7.091304347826088\n",
            "7.086580086580088\n",
            "7.081896551724139\n",
            "7.077253218884121\n",
            "7.081196581196583\n",
            "7.076595744680852\n",
            "7.084745762711866\n",
            "7.08438818565401\n",
            "7.092436974789917\n",
            "7.096234309623433\n",
            "7.079166666666668\n",
            "7.07883817427386\n",
            "7.070247933884299\n",
            "7.078189300411524\n",
            "7.065573770491805\n",
            "7.06122448979592\n",
            "7.077235772357725\n",
            "7.08097165991903\n",
            "7.084677419354841\n",
            "7.084337349397592\n",
            "7.084000000000002\n",
            "7.083665338645421\n",
            "7.1031746031746055\n",
            "7.106719367588935\n",
            "7.110236220472443\n",
            "7.117647058823532\n",
            "7.121093750000003\n",
            "7.124513618677045\n",
            "7.120155038759692\n",
            "7.10810810810811\n",
            "7.111538461538463\n",
            "7.10344827586207\n",
            "7.083969465648856\n",
            "7.072243346007606\n",
            "7.075757575757577\n",
            "7.08679245283019\n",
            "7.086466165413535\n",
            "7.093632958801499\n",
            "7.093283582089553\n",
            "7.08550185873606\n",
            "7.0888888888888895\n",
            "7.084870848708488\n",
            "7.088235294117648\n",
            "7.073260073260074\n",
            "7.058394160583942\n",
            "7.058181818181819\n",
            "7.065217391304349\n",
            "7.064981949458485\n",
            "7.082733812949641\n",
            "7.086021505376345\n",
            "7.085714285714286\n",
            "7.09964412811388\n",
            "7.092198581560285\n",
            "7.09540636042403\n",
            "7.095070422535213\n",
            "7.09122807017544\n",
            "7.090909090909092\n",
            "7.087108013937283\n",
            "7.076388888888889\n",
            "7.072664359861592\n",
            "7.082758620689655\n",
            "7.089347079037801\n",
            "7.099315068493151\n",
            "7.098976109215018\n",
            "7.102040816326531\n",
            "7.094915254237289\n",
            "7.097972972972974\n",
            "7.087542087542088\n",
            "7.093959731543625\n",
            "7.107023411371238\n",
            "7.110000000000001\n",
            "7.126245847176081\n",
            "7.122516556291393\n",
            "7.128712871287131\n",
            "7.121710526315791\n",
            "7.104918032786887\n",
            "7.101307189542485\n",
            "7.107491856677526\n",
            "7.1071428571428585\n",
            "7.100323624595471\n",
            "7.103225806451614\n",
            "7.093247588424439\n",
            "7.083333333333335\n",
            "7.0734824281150175\n",
            "7.079617834394906\n",
            "7.082539682539684\n",
            "7.085443037974685\n",
            "7.091482649842273\n",
            "7.097484276729562\n",
            "7.100313479623827\n",
            "7.109375000000003\n",
            "7.096573208722744\n",
            "7.090062111801245\n",
            "7.089783281733749\n",
            "7.089506172839509\n",
            "7.089230769230772\n",
            "7.098159509202457\n",
            "7.100917431192664\n",
            "7.103658536585369\n",
            "7.103343465045596\n",
            "7.0969696969697\n",
            "7.102719033232631\n",
            "7.10240963855422\n",
            "7.1081081081081114\n",
            "7.122754491017967\n",
            "7.1253731343283615\n",
            "7.127976190476193\n",
            "7.121661721068252\n",
            "7.130177514792902\n",
            "7.135693215339236\n",
            "7.1294117647058854\n",
            "7.137829912023464\n",
            "7.128654970760238\n",
            "7.139941690962103\n",
            "7.136627906976748\n",
            "7.136231884057975\n",
            "7.138728323699426\n",
            "7.132564841498563\n",
            "7.120689655172417\n",
            "7.111747851002868\n",
            "7.111428571428575\n",
            "7.108262108262112\n",
            "7.107954545454549\n",
            "7.113314447592072\n",
            "7.115819209039552\n",
            "7.1126760563380325\n",
            "7.115168539325847\n",
            "7.100840336134458\n",
            "7.1005586592178815\n",
            "7.089136490250701\n",
            "7.083333333333338\n",
            "7.08587257617729\n",
            "7.088397790055254\n",
            "7.093663911845735\n",
            "7.096153846153851\n",
            "7.090410958904115\n",
            "7.101092896174868\n",
            "7.100817438692102\n",
            "7.111413043478265\n",
            "7.105691056910573\n",
            "7.108108108108112\n",
            "7.094339622641514\n",
            "7.088709677419359\n",
            "7.080428954423597\n",
            "7.088235294117652\n",
            "7.088000000000005\n",
            "7.085106382978728\n",
            "7.082228116710881\n",
            "7.07407407407408\n",
            "7.084432717678106\n",
            "7.07631578947369\n",
            "7.083989501312342\n",
            "7.094240837696341\n",
            "7.099216710182773\n",
            "7.098958333333339\n",
            "7.096103896103902\n",
            "7.093264248704669\n",
            "7.095607235142125\n",
            "7.1030927835051605\n",
            "7.11053984575836\n",
            "7.100000000000006\n",
            "7.102301790281336\n",
            "7.102040816326537\n",
            "7.104325699745553\n",
            "7.10913705583757\n",
            "7.113924050632917\n",
            "7.1136363636363695\n",
            "7.108312342569276\n",
            "7.09547738693468\n",
            "7.08771929824562\n",
            "7.097500000000006\n",
            "7.102244389027438\n",
            "7.104477611940305\n",
            "7.104218362282885\n",
            "7.096534653465353\n",
            "7.1086419753086485\n",
            "7.103448275862076\n",
            "7.100737100737107\n",
            "7.098039215686281\n",
            "7.092909535452329\n",
            "7.090243902439031\n",
            "7.099756690997574\n",
            "7.092233009708745\n",
            "7.084745762711871\n",
            "7.089371980676336\n",
            "7.077108433734947\n",
            "7.074519230769238\n",
            "7.081534772182262\n",
            "7.0765550239234525\n",
            "7.078758949880676\n",
            "7.076190476190484\n",
            "7.0736342042755425\n",
            "7.0663507109004815\n",
            "7.0638297872340505\n",
            "7.054245283018876\n",
            "7.044705882352949\n",
            "7.044600938967144\n",
            "7.035128805620617\n",
            "7.0420560747663625\n",
            "7.037296037296045\n",
            "7.037209302325589\n",
            "7.048723897911841\n",
            "7.055555555555563\n",
            "7.060046189376451\n",
            "7.0599078341013906\n",
            "7.059770114942537\n",
            "7.066513761467898\n",
            "7.06178489702518\n",
            "7.066210045662109\n",
            "7.059225512528482\n",
            "7.063636363636372\n",
            "7.0566893424036365\n",
            "7.063348416289601\n",
            "7.067720090293462\n",
            "7.063063063063072\n",
            "7.06067415730338\n",
            "7.062780269058305\n",
            "7.062639821029092\n",
            "7.060267857142866\n",
            "7.062360801781746\n",
            "7.068888888888898\n",
            "7.066518847006661\n",
            "7.066371681415938\n",
            "7.064017660044159\n",
            "7.057268722466969\n",
            "7.065934065934074\n",
            "7.063596491228078\n",
            "7.054704595186004\n",
            "7.048034934497824\n",
            "7.052287581699354\n",
            "7.056521739130442\n",
            "7.056399132321048\n",
            "7.056277056277064\n",
            "7.049676025917934\n",
            "7.051724137931042\n",
            "7.051612903225814\n",
            "7.057939914163097\n",
            "7.057815845824418\n",
            "7.057692307692315\n",
            "7.059701492537321\n",
            "7.055319148936177\n",
            "7.057324840764338\n",
            "7.057203389830515\n",
            "7.059196617336158\n",
            "7.059071729957812\n",
            "7.054736842105269\n",
            "7.058823529411771\n",
            "7.0545073375262115\n",
            "7.056485355648541\n",
            "7.054279749478085\n",
            "7.045833333333339\n",
            "7.045738045738051\n",
            "7.037344398340254\n",
            "7.043478260869571\n",
            "7.0433884297520715\n",
            "7.035051546391758\n",
            "7.039094650205766\n",
            "7.039014373716637\n",
            "7.032786885245907\n",
            "7.030674846625772\n",
            "7.026530612244903\n",
            "7.0325865580448115\n",
            "7.0264227642276476\n",
            "7.026369168357003\n",
            "7.0303643724696405\n",
            "7.032323232323237\n",
            "7.0322580645161334\n",
            "7.024144869215296\n",
            "7.01807228915663\n",
            "7.01603206412826\n",
            "7.014000000000004\n",
            "7.013972055888227\n",
            "7.015936254980083\n",
            "7.023856858846922\n",
            "7.019841269841273\n",
            "7.017821782178221\n",
            "7.017786561264826\n",
            "7.019723865877716\n",
            "7.019685039370083\n",
            "7.0196463654224015\n",
            "7.015686274509808\n",
            "7.015655577299417\n",
            "7.0078125000000036\n",
            "7.013645224171544\n",
            "7.007782101167319\n",
            "7.013592233009712\n",
            "7.005813953488375\n",
            "6.998065764023214\n",
            "6.996138996138999\n",
            "7.001926782273606\n",
            "7.0038461538461565\n",
            "6.994241842610367\n",
            "6.998084291187742\n",
            "6.998087954110901\n",
            "6.990458015267178\n",
            "7.000000000000003\n",
            "7.003802281368824\n",
            "7.003795066413665\n",
            "6.996212121212124\n",
            "6.994328922495277\n",
            "6.988679245283022\n",
            "6.984934086629004\n",
            "6.98308270676692\n",
            "6.990619136960603\n",
            "6.990636704119853\n",
            "6.994392523364489\n",
            "6.9962686567164205\n",
            "6.992551210428308\n",
            "6.994423791821564\n",
            "6.994434137291283\n",
            "7.003703703703707\n",
            "7.007393715341962\n",
            "6.998154981549818\n",
            "7.000000000000003\n",
            "6.998161764705885\n",
            "7.005504587155966\n",
            "7.003663003663006\n",
            "7.005484460694701\n",
            "7.003649635036499\n",
            "7.00546448087432\n",
            "7.00727272727273\n",
            "7.01088929219601\n",
            "7.009057971014496\n",
            "7.01084990958409\n",
            "7.010830324909751\n",
            "7.0126126126126165\n",
            "7.014388489208637\n",
            "7.014362657091565\n",
            "7.008960573476706\n",
            "7.014311270125227\n",
            "7.014285714285718\n",
            "7.017825311942962\n",
            "7.019572953736658\n",
            "7.014209591474248\n",
            "7.012411347517734\n",
            "7.0141592920354014\n",
            "7.015901060070674\n",
            "7.019400352733689\n",
            "7.015845070422538\n",
            "7.014059753954308\n",
            "7.0157894736842135\n",
            "7.017513134851141\n",
            "7.012237762237765\n",
            "7.008726003490405\n",
            "7.006968641114986\n",
            "7.001739130434785\n",
            "6.99479166666667\n",
            "6.9913344887348385\n",
            "6.994809688581318\n",
            "6.996545768566497\n",
            "6.998275862068969\n",
            "7.00688468158348\n",
            "7.010309278350518\n",
            "7.008576329331049\n",
            "7.00856164383562\n",
            "7.010256410256414\n",
            "7.015358361774748\n",
            "7.018739352640549\n",
            "7.025510204081637\n",
            "7.025466893039053\n",
            "7.030508474576275\n",
            "7.033840947546535\n",
            "7.038851351351355\n",
            "7.04047217537943\n",
            "7.033670033670037\n",
            "7.031932773109247\n",
            "7.026845637583896\n",
            "7.026800670016754\n",
            "7.021739130434786\n",
            "7.0166944908180335\n",
            "7.013333333333337\n",
            "7.014975041597341\n",
            "7.019933554817279\n",
            "7.021558872305144\n",
            "7.02152317880795\n",
            "7.018181818181821\n",
            "7.014851485148518\n",
            "7.019769357495885\n",
            "7.016447368421056\n",
            "7.01970443349754\n",
            "7.0262295081967245\n",
            "7.019639934533555\n",
            "7.024509803921572\n",
            "7.029363784665582\n",
            "7.026058631921828\n",
            "7.0276422764227675\n",
            "7.025974025974029\n",
            "7.029173419773098\n",
            "7.027508090614889\n",
            "7.022617124394187\n",
            "7.0241935483871\n",
            "7.0241545893719834\n",
            "7.022508038585212\n",
            "7.022471910112362\n",
            "7.0240384615384635\n",
            "7.024000000000002\n",
            "7.025559105431312\n",
            "7.0255183413078175\n",
            "7.030254777070066\n",
            "7.033386327503977\n",
            "7.031746031746034\n",
            "7.028526148969892\n",
            "7.025316455696205\n",
            "7.0236966824644576\n",
            "7.018927444794955\n",
            "7.020472440944885\n",
            "7.022012578616355\n",
            "7.018838304552593\n",
            "7.0141065830721026\n",
            "7.012519561815338\n",
            "7.017187500000002\n",
            "7.023400936037444\n",
            "7.021806853582556\n",
            "7.021772939346814\n",
            "7.026397515527952\n",
            "7.029457364341087\n",
            "7.030959752321983\n",
            "7.030911901081918\n",
            "7.030864197530866\n",
            "7.030816640986134\n",
            "7.035384615384617\n",
            "7.03225806451613\n",
            "7.0337423312883445\n",
            "7.033690658499236\n",
            "7.035168195718656\n",
            "7.038167938931299\n",
            "7.038109756097563\n",
            "7.038051750380519\n",
            "7.033434650455929\n",
            "7.0318664643399105\n",
            "7.033333333333335\n",
            "7.033282904689865\n",
            "7.030211480362539\n",
            "7.0301659125188545\n",
            "7.033132530120483\n",
            "7.027067669172933\n",
            "7.025525525525526\n",
            "7.029985007496252\n",
            "7.023952095808384\n",
            "7.0209267563527655\n",
            "7.026865671641791\n",
            "7.026825633383011\n",
            "7.026785714285714\n",
            "7.023774145616642\n",
            "7.028189910979228\n",
            "7.0340740740740735\n",
            "7.035502958579881\n",
            "7.039881831610044\n",
            "7.04424778761062\n",
            "7.036818851251841\n",
            "7.038235294117647\n",
            "7.041116005873715\n",
            "7.036656891495601\n",
            "7.036603221083455\n",
            "7.0321637426900585\n",
            "7.027737226277372\n",
            "7.0276967930029155\n",
            "7.0320232896652115\n",
            "7.031976744186047\n",
            "7.039187227866474\n",
            "7.043478260869566\n",
            "7.047756874095515\n",
            "7.044797687861273\n",
            "7.03896103896104\n",
            "7.044668587896255\n",
            "7.046043165467627\n",
            "7.047413793103449\n",
            "7.053084648493544\n",
            "7.055873925501433\n",
            "7.05722460658083\n",
            "7.057142857142857\n",
            "7.05848787446505\n",
            "7.061253561253562\n",
            "7.056899004267426\n",
            "7.0568181818181825\n",
            "7.0609929078014195\n",
            "7.060906515580737\n",
            "7.05940594059406\n",
            "7.060734463276837\n",
            "7.060648801128351\n",
            "7.053521126760565\n",
            "7.052039381153307\n",
            "7.047752808988766\n",
            "7.050490883590465\n",
            "7.051820728291318\n",
            "7.050349650349652\n",
            "7.046089385474862\n",
            "7.051603905160392\n",
            "7.051532033426185\n",
            "7.048678720445064\n",
            "7.0486111111111125\n",
            "7.0457697642163675\n",
            "7.045706371191137\n",
            "7.044260027662519\n",
            "7.048342541436465\n",
            "7.0468965517241395\n",
            "7.046831955922866\n",
            "7.045392022008254\n",
            "7.043956043956046\n",
            "7.049382716049385\n",
            "7.047945205479454\n",
            "7.049247606019154\n",
            "7.046448087431696\n",
            "7.043656207366987\n",
            "7.0408719346049065\n",
            "7.039455782312927\n",
            "7.038043478260871\n",
            "7.033921302578021\n",
            "7.029810298102983\n",
            "7.023004059539921\n",
            "7.029729729729731\n",
            "7.0296896086369784\n",
            "7.030997304582212\n",
            "7.034993270524901\n",
            "7.041666666666669\n",
            "7.040268456375841\n",
            "7.040214477211799\n",
            "7.044176706827312\n",
            "7.041443850267382\n",
            "7.037383177570096\n",
            "7.034666666666669\n",
            "7.0372836218375525\n",
            "7.0372340425531945\n",
            "7.037184594953522\n",
            "7.037135278514591\n",
            "7.038410596026492\n",
            "7.044973544973547\n",
            "7.044914134742406\n",
            "7.044854881266493\n",
            "7.043478260869567\n",
            "7.044736842105265\n",
            "7.04467805519054\n",
            "7.0498687664042015\n",
            "7.044560943643514\n",
            "7.047120418848169\n",
            "7.043137254901962\n",
            "7.041775456919062\n",
            "7.039113428943939\n",
            "7.042968750000002\n",
            "7.04551365409623\n",
            "7.0415584415584425\n",
            "7.041504539559015\n",
            "7.041450777202074\n",
            "7.0388098318240635\n",
            "7.043927648578813\n",
            "7.046451612903227\n",
            "7.043814432989692\n",
            "7.043758043758046\n",
            "7.043701799485863\n",
            "7.043645699614893\n",
            "7.04871794871795\n",
            "7.05121638924456\n",
            "7.04987212276215\n",
            "7.053639846743297\n",
            "7.052295918367349\n",
            "7.049681528662423\n",
            "7.04961832061069\n",
            "7.053367217280816\n",
            "7.049492385786805\n",
            "7.051964512040561\n",
            "7.053164556962028\n",
            "7.049304677623264\n",
            "7.051767676767679\n",
            "7.056746532156371\n",
            "7.05163727959698\n",
            "7.0528301886792475\n",
            "7.05276381909548\n",
            "7.0489335006273555\n",
            "7.048872180451131\n",
            "7.046307884856073\n",
            "7.046250000000003\n",
            "7.044943820224723\n",
            "7.038653366583545\n",
            "7.039850560398509\n",
            "7.043532338308461\n",
            "7.0447204968944135\n",
            "7.047146401985115\n",
            "7.052044609665431\n",
            "7.049504950495052\n",
            "7.053152039555009\n",
            "7.05308641975309\n",
            "7.0493218249075245\n",
            "7.051724137931037\n",
            "7.056580565805661\n",
            "7.058968058968063\n",
            "7.058895705521476\n",
            "7.05759803921569\n",
            "7.06119951040392\n",
            "7.05867970660147\n",
            "7.059829059829063\n",
            "7.058536585365857\n",
            "7.05968331303289\n",
            "7.064476885644772\n",
            "7.068043742405835\n",
            "7.067961165048546\n",
            "7.064242424242426\n",
            "7.06900726392252\n",
            "7.0677146311971\n",
            "7.067632850241548\n",
            "7.066344993968639\n",
            "7.065060240963858\n",
            "7.064981949458486\n",
            "7.063701923076925\n",
            "7.0624249699879975\n",
            "7.0635491606714655\n",
            "7.063473053892218\n",
            "7.062200956937802\n",
            "7.068100358422941\n",
            "7.066825775656327\n",
            "7.061978545887965\n",
            "7.058333333333336\n",
            "7.057074910820455\n",
            "7.058194774346796\n",
            "7.0545670225385555\n",
            "7.058056872037917\n",
            "7.0579881656804755\n",
            "7.059101654846338\n",
            "7.054309327036602\n",
            "7.055424528301889\n",
            "7.061248527679625\n",
            "7.060000000000002\n",
            "7.059929494712105\n",
            "7.05985915492958\n",
            "7.059788980070342\n",
            "7.062060889929745\n",
            "7.0573099415204705\n",
            "7.060747663551404\n",
            "7.058343057176199\n",
            "7.058275058275061\n",
            "7.054714784633298\n",
            "7.050000000000003\n",
            "7.055749128919864\n",
            "7.054524361948959\n",
            "7.054461181923525\n",
            "7.053240740740743\n",
            "7.055491329479771\n",
            "7.051963048498848\n",
            "7.049596309111883\n",
            "7.051843317972353\n",
            "7.049482163406217\n",
            "7.050574712643681\n",
            "7.048220436280141\n",
            "7.0470183486238565\n",
            "7.049255441008022\n",
            "7.053775743707098\n",
            "7.052571428571432\n",
            "7.0513698630137025\n",
            "7.0501710376282825\n",
            "7.0478359908883865\n",
            "7.045506257110357\n",
            "7.044318181818186\n",
            "7.048808172531219\n",
            "7.048752834467124\n",
            "7.0453001132502875\n",
            "7.041855203619914\n",
            "7.037288135593225\n",
            "7.038374717832961\n",
            "7.038331454340478\n",
            "7.0382882882882924\n",
            "7.043869516310465\n",
            "7.049438202247195\n",
            "7.048260381593719\n",
            "7.04820627802691\n",
            "7.0459126539753685\n",
            "7.049217002237141\n",
            "7.0469273743016805\n",
            "7.049107142857148\n",
            "7.050167224080273\n",
            "7.05233853006682\n",
            "7.05339265850946\n",
            "7.055555555555561\n",
            "7.054384017758052\n",
            "7.050997782705105\n",
            "7.0509413067552655\n",
            "7.054203539823014\n",
            "7.055248618784535\n",
            "7.054083885209718\n",
            "7.054024255788319\n",
            "7.059471365638772\n",
            "7.062706270627068\n",
            "7.0604395604395656\n",
            "7.061470911086723\n",
            "7.0581140350877245\n",
            "7.05585980284776\n",
            "7.0601750547046\n",
            "7.0579234972677645\n",
            "7.054585152838433\n",
            "7.054525627044716\n",
            "7.053376906318087\n",
            "7.055495103373237\n",
            "7.052173913043483\n",
            "7.053203040173729\n",
            "7.055314533622565\n",
            "7.059588299024924\n",
            "7.061688311688316\n",
            "7.061621621621626\n",
            "7.060475161987045\n",
            "7.060409924487598\n",
            "7.060344827586211\n",
            "7.064585575888056\n",
            "7.064516129032262\n",
            "7.069817400644472\n",
            "7.072961373390561\n",
            "7.072883172561633\n",
            "7.0749464668094255\n",
            "7.078074866310164\n",
            "7.080128205128209\n",
            "7.080042689434369\n",
            "7.079957356076763\n",
            "7.084132055378066\n",
            "7.084042553191494\n",
            "7.085015940488846\n",
            "7.084925690021236\n",
            "7.08907741251326\n",
            "7.088983050847462\n",
            "7.088888888888893\n",
            "7.0877378435518015\n",
            "7.086589229144672\n",
            "7.082278481012663\n",
            "7.082191780821923\n",
            "7.083157894736847\n",
            "7.079915878023138\n",
            "7.079831932773114\n",
            "7.084994753410288\n",
            "7.0859538784067135\n",
            "7.090052356020947\n",
            "7.09414225941423\n",
            "7.099268547544414\n",
            "7.096033402922759\n",
            "7.094890510948908\n",
            "7.098958333333337\n",
            "7.096774193548391\n",
            "7.101871101871105\n",
            "7.104880581516099\n",
            "7.103734439834028\n",
            "7.1056994818652885\n",
            "7.110766045548658\n",
            "7.110651499482941\n",
            "7.109504132231409\n",
            "7.1093911248710056\n",
            "7.107216494845366\n",
            "7.110195674562312\n",
            "7.112139917695478\n",
            "7.1089414182939406\n",
            "7.108829568788505\n",
            "7.111794871794876\n",
            "7.109631147540988\n",
            "7.104401228249748\n",
            "7.104294478527612\n",
            "7.101123595505622\n",
            "7.10510204081633\n",
            "7.102956167176354\n",
            "7.105906313645625\n",
            "7.105798575788406\n",
            "7.1006097560975645\n",
            "7.1005076142132015\n",
            "7.096348884381342\n",
            "7.096251266464036\n",
            "7.100202429149801\n",
            "7.098078867542976\n",
            "7.097979797979802\n",
            "7.102926337033304\n",
            "7.1048387096774235\n",
            "7.104733131923468\n",
            "7.100603621730386\n",
            "7.100502512562818\n",
            "7.100401606425707\n",
            "7.10130391173521\n",
            "7.098196392785575\n",
            "7.0960960960961\n",
            "7.099000000000004\n"
          ]
        }
      ]
    },
    {
      "cell_type": "markdown",
      "source": [
        "## 5.3 Monte Carlo implementation"
      ],
      "metadata": {
        "id": "7mx_tWC9-dO_"
      }
    },
    {
      "cell_type": "markdown",
      "source": [
        "### 5.3.1 step method"
      ],
      "metadata": {
        "id": "nUpKsxKOApyy"
      }
    },
    {
      "cell_type": "code",
      "source": [
        "env = GridWorld()\n",
        "# Action of dummy\n",
        "action = 0\n",
        "next_state, reward, done = env.step(action)\n",
        "\n",
        "print('next_state:', next_state)\n",
        "print('reward:', reward)\n",
        "print('done:', done)"
      ],
      "metadata": {
        "colab": {
          "base_uri": "https://localhost:8080/"
        },
        "id": "uinUKzKkAyo7",
        "outputId": "59066b36-e985-45e3-b3d9-ff95b1de09f0"
      },
      "execution_count": 41,
      "outputs": [
        {
          "output_type": "stream",
          "name": "stdout",
          "text": [
            "next_state: (1, 0)\n",
            "reward: 0\n",
            "done: False\n"
          ]
        }
      ]
    },
    {
      "cell_type": "code",
      "source": [
        "env = GridWorld()\n",
        "state = env.reset()"
      ],
      "metadata": {
        "id": "8DEqS0dgBIjj"
      },
      "execution_count": 42,
      "outputs": []
    },
    {
      "cell_type": "markdown",
      "source": [
        "### 5.3.2 Agent class implementation"
      ],
      "metadata": {
        "id": "VxqF_XfnHR9Y"
      }
    },
    {
      "cell_type": "code",
      "source": [
        "class RandomAgent:\n",
        "    def __init__(self):\n",
        "        self.gamma = 0.9\n",
        "        self.action_size = 4\n",
        "\n",
        "        random_actions = {0: 0.25, 1: 0.25, 2: 0.25, 3: 0.25}\n",
        "        self.pi = defaultdict(lambda: random_actions)\n",
        "        self.V = defaultdict(lambda: 0)\n",
        "        self.cnts = defaultdict(lambda: 0)\n",
        "        self.memory = []\n",
        "\n",
        "    def get_action(self, state):\n",
        "        action_probs = self.pi[state]\n",
        "        actions = list(action_probs.keys())\n",
        "        probs = list(action_probs.values())\n",
        "        return np.random.choice(actions, p=probs)\n",
        "\n",
        "    def add(self, state, action, reward):\n",
        "        data = (state, action, reward)\n",
        "        self.memory.append(data)\n",
        "\n",
        "    def reset(self):\n",
        "        self.memory.clear()\n",
        "\n",
        "    def eval(self):\n",
        "        G = 0\n",
        "        for data in reversed(self.memory):\n",
        "            state, action, reward = data\n",
        "            G = self.gamma * G + reward\n",
        "            self.cnts[state] += 1\n",
        "            self.V[state] += (G - self.V[state]) / self.cnts[state]"
      ],
      "metadata": {
        "id": "thSVBjYGofXd"
      },
      "execution_count": 47,
      "outputs": []
    },
    {
      "cell_type": "markdown",
      "source": [
        "### 5.3.3 Running the Monte Carlo method"
      ],
      "metadata": {
        "id": "XB0wHOghpTnk"
      }
    },
    {
      "cell_type": "code",
      "source": [
        "env = GridWorld()\n",
        "agent = RandomAgent()\n",
        "\n",
        "episodes = 1000\n",
        "for episode in range(episodes):\n",
        "    state = env.reset()\n",
        "    agent.reset()\n",
        "\n",
        "    while True:\n",
        "        action = agent.get_action(state)\n",
        "        next_state, reward, done = env.step(action)\n",
        "\n",
        "        agent.add(state, action, reward)\n",
        "        if done:\n",
        "            agent.eval()\n",
        "            break\n",
        "\n",
        "        state = next_state\n",
        "\n",
        "env.render_v(agent.V)"
      ],
      "metadata": {
        "colab": {
          "base_uri": "https://localhost:8080/",
          "height": 252
        },
        "id": "5_NCYdSnqhGW",
        "outputId": "0a9ff0eb-5d28-43f3-8dec-f2705a8ca077"
      },
      "execution_count": 48,
      "outputs": [
        {
          "output_type": "display_data",
          "data": {
            "text/plain": [
              "<Figure size 432x288 with 1 Axes>"
            ],
            "image/png": "[encoded data removed]"
          },
          "metadata": {}
        }
      ]
    },
    {
      "cell_type": "markdown",
      "source": [
        "## 5.4 Policy Control with Monte Carlo Method"
      ],
      "metadata": {
        "id": "DSWDjjCDs6zx"
      }
    },
    {
      "cell_type": "markdown",
      "source": [
        "### 5.4.2 Implementation of policy control using Monte Carlo methods"
      ],
      "metadata": {
        "id": "aWpBWmPKrGTM"
      }
    },
    {
      "cell_type": "code",
      "source": [
        "class McAgent:\n",
        "  def __init__(self):\n",
        "    self.gamma = 0.9\n",
        "    self.action_size = 4\n",
        "\n",
        "    random_actions = {0: 0.25, 1: 0.25, 2: 0.25, 3: 0.25}\n",
        "    self.pi = defaultdict(lambda: random_actions)\n",
        "    # Use Q instead of V\n",
        "    self.Q = defaultdict(lambda: 0)\n",
        "    self.cnts = defaultdict(lambda: 0)\n",
        "    self.memory = []\n",
        "\n",
        "    def get_action(self, state):\n",
        "      action_probs = self.pi[state]\n",
        "      actions = list(action_probs.keys())\n",
        "      probs = list(action_probs.values())\n",
        "      return np.random.choice(actions, p=probs)\n",
        "\n",
        "    def add(self, state, action, reward):\n",
        "      data = (state, action, reward)\n",
        "      self.memory.append(data)\n",
        "    \n",
        "    def reset(self):\n",
        "      self.memory.clear()\n",
        "\n",
        "    def update(self):\n",
        "      G = 0\n",
        "      for data in reversed(self.memory):\n",
        "        state, action, reward = data\n",
        "        G = self.gamma * G + reward\n",
        "        key = (state, action)\n",
        "        self.cnts[key] += 1\n",
        "        self.Q[key] += (G - self.Q[key]) / self.cnts[key]\n",
        "\n",
        "        self.pi[state] = greedy_probs(self.Q, state)"
      ],
      "metadata": {
        "id": "dyMMO8Jht1ql"
      },
      "execution_count": 60,
      "outputs": []
    },
    {
      "cell_type": "code",
      "source": [
        "def greedy_probs(Q, state, action_size=4):\n",
        "  qs = [Q[(state, action)] for action in range(action_size)]\n",
        "  max_action = np.argmax(qs)\n",
        "\n",
        "  action_probs = {action: 0.0 for action in range(action_size)}\n",
        "  # At this point, action_probs is {0:0.0, 1:0.0, 2:0.0, 3:0.0}\n",
        "  action_probs[max_action] = 1\n",
        "  return action_probs"
      ],
      "metadata": {
        "id": "Yzgvu2bHvDSL"
      },
      "execution_count": 61,
      "outputs": []
    },
    {
      "cell_type": "markdown",
      "source": [
        "### 5.4.3 ε-greedy method (1st modification)"
      ],
      "metadata": {
        "id": "EAe2X7glvyTc"
      }
    },
    {
      "cell_type": "code",
      "source": [
        "def greedy_probs(Q, state, epsilon=0, action_size=4):\n",
        "  qs = [Q[(state, action)] for action in range(action_size)]\n",
        "  max_action = np.argmax(qs)\n",
        "\n",
        "  base_prob = epsilon / action_size\n",
        "  action_probs = {action: base_prob for action in range(action_size)}\n",
        "  # At this point, action_probs is {0: ε/4, 1: ε/4, 2: ε/4, 3: ε/4}\n",
        "  action_probs[max_action] += (1 - epsilon)\n",
        "  return action_probs"
      ],
      "metadata": {
        "id": "kwzfw_ilwfYT"
      },
      "execution_count": 62,
      "outputs": []
    },
    {
      "cell_type": "markdown",
      "source": [
        "### 5.4.4 To fixed value alpha method (second modification)"
      ],
      "metadata": {
        "id": "tdllTIbcxB8p"
      }
    },
    {
      "cell_type": "code",
      "source": [
        "class McAgent:\n",
        "  def __init__(self):\n",
        "    self.gamma = 0.9\n",
        "    self.action_size = 4\n",
        "\n",
        "    random_actions = {0: 0.25, 1: 0.25, 2: 0.25, 3: 0.25}\n",
        "    self.pi = defaultdict(lambda: random_actions)\n",
        "    # Use Q instead of V\n",
        "    self.Q = defaultdict(lambda: 0)\n",
        "    self.cnts = defaultdict(lambda: 0)\n",
        "    self.memory = []\n",
        "\n",
        "    def get_action(self, state):\n",
        "      action_probs = self.pi[state]\n",
        "      actions = list(action_probs.keys())\n",
        "      probs = list(action_probs.values())\n",
        "      return np.random.choice(actions, p=probs)\n",
        "\n",
        "    def add(self, state, action, reward):\n",
        "      data = (state, action, reward)\n",
        "      self.memory.append(data)\n",
        "\n",
        "    def update(self):\n",
        "      G = 0\n",
        "      for data in reversed(self.memory):\n",
        "        state, action, reward = data\n",
        "        G = self.gamma * G + reward\n",
        "        key = (state, action)\n",
        "        self.cnts[key] += 1\n",
        "        # Before modification\n",
        "        # self.Q[key] += (G - self.Q[key]) / self.cnts[key]\n",
        "\n",
        "        # After modification\n",
        "        alpha = 0.1\n",
        "        self.Q[key] += (G - self.Q[key]) * alpha\n",
        "\n",
        "        self.pi[state] = greedy_probs(self.Q, state)"
      ],
      "metadata": {
        "id": "K16TGYalxUyj"
      },
      "execution_count": 63,
      "outputs": []
    },
    {
      "cell_type": "markdown",
      "source": [
        "### 5.4.5 [Corrected] Implementation of Iterative Policies Using Monte Carlo Methods"
      ],
      "metadata": {
        "id": "l-Bd4ccWyBVD"
      }
    },
    {
      "cell_type": "code",
      "source": [
        "class McAgent:\n",
        "    def __init__(self):\n",
        "        self.gamma = 0.9\n",
        "        self.epsilon = 0.1\n",
        "        self.alpha = 0.1\n",
        "        self.action_size = 4\n",
        "\n",
        "        random_actions = {0: 0.25, 1: 0.25, 2: 0.25, 3: 0.25}\n",
        "        self.pi = defaultdict(lambda: random_actions)\n",
        "        self.Q = defaultdict(lambda: 0)\n",
        "        self.memory = []\n",
        "\n",
        "    def get_action(self, state):\n",
        "        action_probs = self.pi[state]\n",
        "        actions = list(action_probs.keys())\n",
        "        probs = list(action_probs.values())\n",
        "        return np.random.choice(actions, p=probs)\n",
        "\n",
        "    def add(self, state, action, reward):\n",
        "        data = (state, action, reward)\n",
        "        self.memory.append(data)\n",
        "\n",
        "    def reset(self):\n",
        "        self.memory.clear()\n",
        "\n",
        "    def update(self):\n",
        "        G = 0\n",
        "        for data in reversed(self.memory):\n",
        "            state, action, reward = data\n",
        "            G = self.gamma * G + reward\n",
        "            key = (state, action)\n",
        "            self.Q[key] += (G - self.Q[key]) * self.alpha\n",
        "            self.pi[state] = greedy_probs(self.Q, state, self.epsilon)"
      ],
      "metadata": {
        "id": "5xIu0-EDyxti"
      },
      "execution_count": 67,
      "outputs": []
    },
    {
      "cell_type": "code",
      "source": [
        "env = GridWorld()\n",
        "agent = McAgent()\n",
        "\n",
        "episodes = 10000\n",
        "for episode in range(episodes):\n",
        "  state = env.reset()\n",
        "  agent.reset()\n",
        "\n",
        "  while True:\n",
        "    action = agent.get_action(state)\n",
        "    next_state, reward, done = env.step(action)\n",
        "\n",
        "    agent.add(state, action, reward)\n",
        "    if done:\n",
        "      agent.update()\n",
        "      break\n",
        "    \n",
        "    state = next_state\n",
        "\n",
        "env.render_q(agent.Q)"
      ],
      "metadata": {
        "colab": {
          "base_uri": "https://localhost:8080/",
          "height": 487
        },
        "id": "FJDCEkRI0CXk",
        "outputId": "0fb55b2e-bbe9-4c03-ebbd-d502210bd6ff"
      },
      "execution_count": 68,
      "outputs": [
        {
          "output_type": "display_data",
          "data": {
            "text/plain": [
              "<Figure size 432x288 with 1 Axes>"
            ],
            "image/png": "[encoded data removed]"
          },
          "metadata": {}
        },
        {
          "output_type": "display_data",
          "data": {
            "text/plain": [
              "<Figure size 432x288 with 1 Axes>"
            ],
            "image/png": "[encoded data removed]"
          },
          "metadata": {}
        }
      ]
    },
    {
      "cell_type": "markdown",
      "source": [
        "## 5.5 Off-Policy and Importance Sampling"
      ],
      "metadata": {
        "id": "BguosxE43Hsc"
      }
    },
    {
      "cell_type": "markdown",
      "source": [
        "### 5.5.2 Importance Sampling"
      ],
      "metadata": {
        "id": "khFpQskf5Mew"
      }
    },
    {
      "cell_type": "code",
      "source": [
        "import numpy as np\n",
        "\n",
        "x = np.array([1, 2, 3])\n",
        "pi = np.array([0.1, 0.1, 0.8])\n",
        "\n",
        "# expectation\n",
        "e = np.sum(x * pi)\n",
        "print('E_pi[x]', e)\n",
        "\n",
        "# Monte Carlo Method\n",
        "n = 100\n",
        "samples = []\n",
        "for _ in range(n):\n",
        "  # Sampling with pi\n",
        "  s = np.random.choice(x, p=pi)\n",
        "  samples.append(s)\n",
        "\n",
        "mean = np.mean(samples)\n",
        "var = np.var(samples)\n",
        "print('MC: {:.2f} (var: {:.2f})'.format(mean, var))"
      ],
      "metadata": {
        "colab": {
          "base_uri": "https://localhost:8080/"
        },
        "id": "XTbzx7Fe5u74",
        "outputId": "aaeea9f7-a693-4c26-e6c9-1d22ccbdcea3"
      },
      "execution_count": 69,
      "outputs": [
        {
          "output_type": "stream",
          "name": "stdout",
          "text": [
            "E_pi[x] 2.7\n",
            "MC: 2.74 (var: 0.35)\n"
          ]
        }
      ]
    },
    {
      "cell_type": "code",
      "source": [
        "b = np.array([1/3, 1/3, 1/3])\n",
        "n = 100\n",
        "samples = []\n",
        "\n",
        "for _ in range(n):\n",
        "  # [0, 1, 2]\n",
        "  idx = np.arange(len(b))\n",
        "  # Sampling with b\n",
        "  i = np.random.choice(idx, p=b)\n",
        "  s = x[i]\n",
        "  rho = pi[i] / b[i]\n",
        "  samples.append(rho * s)\n",
        "\n",
        "mean = np.mean(samples)\n",
        "var = np.var(samples)\n",
        "print('IS: {:.2f} (var: {:.2f})'.format(mean, var))"
      ],
      "metadata": {
        "colab": {
          "base_uri": "https://localhost:8080/"
        },
        "id": "GgKzQaHK6p87",
        "outputId": "e8ce7e40-80ef-4ffd-c3d3-769544ab6dbc"
      },
      "execution_count": 71,
      "outputs": [
        {
          "output_type": "stream",
          "name": "stdout",
          "text": [
            "IS: 2.68 (var: 10.10)\n"
          ]
        }
      ]
    },
    {
      "cell_type": "markdown",
      "source": [
        "### 5.5.3 To reduce the variance"
      ],
      "metadata": {
        "id": "M6CN8Rd68P5V"
      }
    },
    {
      "cell_type": "code",
      "source": [
        "# Change probability distribution\n",
        "b = np.array([0.2, 0.2, 0.6])\n",
        "n = 100\n",
        "samples = []\n",
        "\n",
        "for _ in range(n):\n",
        "  # [0, 1, 2]\n",
        "  idx = np.arange(len(b))\n",
        "  i = np.random.choice(idx, p=b)\n",
        "  s = x[i]\n",
        "  rho = pi[i] / b[i]\n",
        "  samples.append(rho * s)\n",
        "\n",
        "mean = np.mean(samples)\n",
        "var = np.var(samples)\n",
        "print('IS: {:.2f} (var: {:.2f})'.format(mean, var))"
      ],
      "metadata": {
        "colab": {
          "base_uri": "https://localhost:8080/"
        },
        "id": "xTbifqvK8qHv",
        "outputId": "f6d0a1d2-764e-4419-d408-b8b9cdf08ccb"
      },
      "execution_count": 72,
      "outputs": [
        {
          "output_type": "stream",
          "name": "stdout",
          "text": [
            "IS: 2.80 (var: 2.48)\n"
          ]
        }
      ]
    },
    {
      "cell_type": "code",
      "source": [
        ""
      ],
      "metadata": {
        "id": "9Gi5DjXI9P4U"
      },
      "execution_count": null,
      "outputs": []
    }
  ]
}
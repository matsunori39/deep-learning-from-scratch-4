{
  "nbformat": 4,
  "nbformat_minor": 0,
  "metadata": {
    "colab": {
      "name": "deep-learning-from-scratch-4.ipynb",
      "provenance": [],
      "authorship_tag": "ABX9TyMgzmieqweQuXU375ksYyiu",
      "include_colab_link": true
    },
    "kernelspec": {
      "name": "python3",
      "display_name": "Python 3"
    },
    "language_info": {
      "name": "python"
    }
  },
  "cells": [
    {
      "cell_type": "markdown",
      "metadata": {
        "id": "view-in-github",
        "colab_type": "text"
      },
      "source": [
        "<a href=\"https://colab.research.google.com/github/matsunori39/deep-learning-from-scratch-4/blob/main/deep_learning_from_scratch_4.ipynb\" target=\"_parent\"><img src=\"https://colab.research.google.com/assets/colab-badge.svg\" alt=\"Open In Colab\"/></a>"
      ]
    },
    {
      "cell_type": "markdown",
      "source": [
        "https://github.com/oreilly-japan/deep-learning-from-scratch-4"
      ],
      "metadata": {
        "id": "cDdiu8kjC3Xj"
      }
    },
    {
      "cell_type": "markdown",
      "source": [
        "# Chapter 1 Bandit problem"
      ],
      "metadata": {
        "id": "lzln6G2AC-7t"
      }
    },
    {
      "cell_type": "markdown",
      "source": [
        "## 1.3 Bandit Algorithm"
      ],
      "metadata": {
        "id": "ksd61JT_DJeN"
      }
    },
    {
      "cell_type": "markdown",
      "source": [
        "### 1.3.2 Implementation to find the average"
      ],
      "metadata": {
        "id": "fRh5wlSTDR6T"
      }
    },
    {
      "cell_type": "code",
      "source": [
        "import numpy as np\n",
        "\n",
        "np.random.seed(0)\n",
        "rewards = []\n",
        "\n",
        "for n in range(1, 11):\n",
        "  reward = np.random.rand()\n",
        "  rewards.append(reward)\n",
        "  Q = sum(rewards) / n\n",
        "  print(Q)"
      ],
      "metadata": {
        "colab": {
          "base_uri": "https://localhost:8080/"
        },
        "id": "8D_aD7_JDgV4",
        "outputId": "2bf17156-4e64-48d8-9138-52068cd98249"
      },
      "execution_count": 12,
      "outputs": [
        {
          "output_type": "stream",
          "name": "stdout",
          "text": [
            "0.5488135039273248\n",
            "0.6320014351498722\n",
            "0.6222554154571295\n",
            "0.6029123573420713\n",
            "0.567060845741438\n",
            "0.5801997236289743\n",
            "0.5598265075766483\n",
            "0.6013198192273272\n",
            "0.6415801460355164\n",
            "0.6157662833145425\n"
          ]
        }
      ]
    },
    {
      "cell_type": "code",
      "source": [
        "Q = 0\n",
        "\n",
        "for n in range(1, 11):\n",
        "  reward = np.random.rand()\n",
        "  Q = Q + (reward - Q) / n\n",
        "  # Q += (reward - Q) / n\n",
        "  print(Q)"
      ],
      "metadata": {
        "colab": {
          "base_uri": "https://localhost:8080/"
        },
        "id": "ZqFzVY1HD0Ma",
        "outputId": "714f1dab-aa2d-4950-ece9-293b9ff1b52a"
      },
      "execution_count": 13,
      "outputs": [
        {
          "output_type": "stream",
          "name": "stdout",
          "text": [
            "0.7917250380826646\n",
            "0.6603099789177845\n",
            "0.6295548396431672\n",
            "0.7035652893055406\n",
            "0.5770594430840099\n",
            "0.49540441918693173\n",
            "0.4275207017945595\n",
            "0.4781580947637318\n",
            "0.5114912787844116\n",
            "0.5473433657306523\n"
          ]
        }
      ]
    },
    {
      "cell_type": "markdown",
      "source": [
        "## 1.4 Bandit Algorithm Implementation"
      ],
      "metadata": {
        "id": "pnCAJJO6HKEs"
      }
    },
    {
      "cell_type": "markdown",
      "source": [
        "### 1.4.1 Slot machine implementation"
      ],
      "metadata": {
        "id": "dRBa2_k5IV20"
      }
    },
    {
      "cell_type": "code",
      "source": [
        "import numpy as np\n",
        "\n",
        "class Bandit:\n",
        "  def __init__(self, arms=10):\n",
        "      self.rates = np.random.rand(arms)\n",
        "  \n",
        "  def play(self, arm):\n",
        "    rate = self.rates[arm]\n",
        "    if rate > np.random.rand():\n",
        "      return 1\n",
        "    else:\n",
        "      return 0"
      ],
      "metadata": {
        "id": "TXQwnxyMIni1"
      },
      "execution_count": 14,
      "outputs": []
    },
    {
      "cell_type": "code",
      "source": [
        "bandit = Bandit()\n",
        "\n",
        "for i in range(3):\n",
        "  print(bandit.play(0))"
      ],
      "metadata": {
        "colab": {
          "base_uri": "https://localhost:8080/"
        },
        "id": "qjgWUaySI3aA",
        "outputId": "afce626c-70ff-43a2-db12-ca7cc9a7a54e"
      },
      "execution_count": 15,
      "outputs": [
        {
          "output_type": "stream",
          "name": "stdout",
          "text": [
            "1\n",
            "1\n",
            "1\n"
          ]
        }
      ]
    },
    {
      "cell_type": "markdown",
      "source": [
        "### 1.4.2 エージェントの実装"
      ],
      "metadata": {
        "id": "Yq_uVsoNJcKT"
      }
    },
    {
      "cell_type": "code",
      "source": [
        "bandit = Bandit()\n",
        "Q = 0\n",
        "\n",
        "for n in range(1, 11):\n",
        "  # Play the 0th slot machine\n",
        "  reward = bandit.play(0)\n",
        "  Q += (reward - Q) / n\n",
        "  print(Q)"
      ],
      "metadata": {
        "colab": {
          "base_uri": "https://localhost:8080/"
        },
        "id": "ych64biqJmO-",
        "outputId": "8f954894-39ed-413b-cc5e-ccb2152d96c2"
      },
      "execution_count": 16,
      "outputs": [
        {
          "output_type": "stream",
          "name": "stdout",
          "text": [
            "1.0\n",
            "0.5\n",
            "0.33333333333333337\n",
            "0.5\n",
            "0.6\n",
            "0.6666666666666666\n",
            "0.7142857142857143\n",
            "0.625\n",
            "0.6666666666666666\n",
            "0.6\n"
          ]
        }
      ]
    },
    {
      "cell_type": "code",
      "source": [
        "bandit = Bandit()\n",
        "Qs = np.zeros(10)\n",
        "ns = np.zeros(10)\n",
        "\n",
        "for n in range(10):\n",
        "  action = np.random.randint(0, 10)\n",
        "  reward = bandit.play(action)\n",
        "\n",
        "  ns[action] += 1\n",
        "  Qs[action] += (reward - Qs[action]) / ns[action]\n",
        "  print(Qs)"
      ],
      "metadata": {
        "colab": {
          "base_uri": "https://localhost:8080/"
        },
        "id": "Oa3ExvCgKAjb",
        "outputId": "c82b29f1-c06a-4af3-a309-502a07d18383"
      },
      "execution_count": 17,
      "outputs": [
        {
          "output_type": "stream",
          "name": "stdout",
          "text": [
            "[0. 0. 0. 0. 0. 0. 0. 0. 0. 0.]\n",
            "[0. 0. 0. 1. 0. 0. 0. 0. 0. 0.]\n",
            "[0. 0. 0. 1. 0. 1. 0. 0. 0. 0.]\n",
            "[0. 0. 0. 1. 0. 1. 0. 0. 0. 0.]\n",
            "[0. 0. 0. 1. 0. 1. 0. 0. 0. 0.]\n",
            "[0. 0. 0. 1. 0. 1. 0. 0. 0. 0.]\n",
            "[0. 0. 0. 1. 0. 1. 0. 0. 0. 0.]\n",
            "[0. 0. 0. 1. 0. 1. 0. 0. 0. 1.]\n",
            "[0. 0. 0. 1. 0. 1. 0. 0. 0. 1.]\n",
            "[0. 0. 0. 1. 0. 1. 0. 0. 0. 1.]\n"
          ]
        }
      ]
    },
    {
      "cell_type": "code",
      "source": [
        "class Agent:\n",
        "  def __init__(self, epsilon, action_size=10):\n",
        "      self.epsilon = epsilon\n",
        "      self.Qs = np.zeros(action_size)\n",
        "      self.ns = np.zeros(action_size)\n",
        "  \n",
        "  def update(self, action, reward):\n",
        "    self.ns[action] += 1\n",
        "    self.Qs[action] += (reward - self.Qs[action]) / self.ns[action]\n",
        "  \n",
        "  def get_action(self):\n",
        "    if np.random.rand() < self.epsilon:\n",
        "      return np.random.randint(0, len(self.Qs))\n",
        "    return np.argmax(self.Qs)"
      ],
      "metadata": {
        "id": "cfsO7cZ5KmD2"
      },
      "execution_count": 18,
      "outputs": []
    },
    {
      "cell_type": "markdown",
      "source": [
        "### 1.4.3 Let's run"
      ],
      "metadata": {
        "id": "E145LnZMLjPp"
      }
    },
    {
      "cell_type": "code",
      "source": [
        "import matplotlib.pyplot as plt\n",
        "\n",
        "steps = 1000\n",
        "epsilon = 0.1\n",
        "\n",
        "bandit = Bandit()\n",
        "agent = Agent(epsilon)\n",
        "total_reward = 0\n",
        "total_rewards = []\n",
        "rates = []\n",
        "\n",
        "for step in range(steps):\n",
        "  # (1) Choose an action\n",
        "  action = agent.get_action()\n",
        "  # (2) Get rewarded for actually playing\n",
        "  reward = bandit.play(action)\n",
        "  # (3) Learning from Behavior and Rewards\n",
        "  agent.update(action, reward)\n",
        "  total_reward += reward\n",
        "\n",
        "  total_rewards.append(total_reward)\n",
        "  rates.append(total_reward / (step+1))\n",
        "\n",
        "print(total_reward)\n",
        "\n",
        "# Drawing Graphs(1)\n",
        "plt.ylabel('Total reward')\n",
        "plt.xlabel('Steps')\n",
        "plt.plot(total_rewards)\n",
        "plt.show()\n",
        "\n",
        "# Drawing Graphs(2)\n",
        "plt.ylabel('Rates')\n",
        "plt.xlabel('Steps')\n",
        "plt.plot(rates)\n",
        "plt.show()"
      ],
      "metadata": {
        "colab": {
          "base_uri": "https://localhost:8080/",
          "height": 559
        },
        "id": "M0I-j6YdL-z8",
        "outputId": "7dc27058-0659-4536-99c0-4d67b846c653"
      },
      "execution_count": 19,
      "outputs": [
        {
          "output_type": "stream",
          "name": "stdout",
          "text": [
            "892\n"
          ]
        },
        {
          "output_type": "display_data",
          "data": {
            "text/plain": [
              "<Figure size 432x288 with 1 Axes>"
            ],
            "image/png": "[encoded data removed]"
          },
          "metadata": {
            "needs_background": "light"
          }
        },
        {
          "output_type": "display_data",
          "data": {
            "text/plain": [
              "<Figure size 432x288 with 1 Axes>"
            ],
            "image/png": "[encoded data removed]"
          },
          "metadata": {
            "needs_background": "light"
          }
        }
      ]
    },
    {
      "cell_type": "markdown",
      "source": [
        "### 1.4.4 Average nature of the algorithm"
      ],
      "metadata": {
        "id": "wYAePF8nNmBS"
      }
    },
    {
      "cell_type": "code",
      "source": [
        "from math import e\n",
        "runs = 200\n",
        "steps = 1000\n",
        "epsilon = 0.1\n",
        "all_rates = np.zeros((runs, steps))\n",
        "\n",
        "for run in range(runs):\n",
        "  bandit = Bandit()\n",
        "  agent = Agent(epsilon)\n",
        "  total_reward = 0\n",
        "  rates = []\n",
        "\n",
        "  for step in range(steps):\n",
        "    action = agent.get_action()\n",
        "    reward = bandit.play(action)\n",
        "    agent.update(action, reward)\n",
        "    total_reward += reward\n",
        "    rates.append(total_reward / (step+1))\n",
        "  \n",
        "  # (1) Record the results of the reward\n",
        "  all_rates[run] = rates\n",
        "\n",
        "# (2) Find the average value at each step\n",
        "avg_rates = np.average(all_rates, axis=0)\n",
        "\n",
        "# (3) Drawing Graphs\n",
        "plt.ylabel('Rates')\n",
        "plt.xlabel('Steps')\n",
        "plt.plot(avg_rates)\n",
        "plt.show()"
      ],
      "metadata": {
        "colab": {
          "base_uri": "https://localhost:8080/",
          "height": 279
        },
        "id": "A-ACojIVO2Ws",
        "outputId": "3fc57449-7ece-4153-f165-dac913a887dc"
      },
      "execution_count": 20,
      "outputs": [
        {
          "output_type": "display_data",
          "data": {
            "text/plain": [
              "<Figure size 432x288 with 1 Axes>"
            ],
            "image/png": "[encoded data removed]"
          },
          "metadata": {
            "needs_background": "light"
          }
        }
      ]
    },
    {
      "cell_type": "markdown",
      "source": [
        "## 1.5 nonstationary problem"
      ],
      "metadata": {
        "id": "qGOsqsADQLgk"
      }
    },
    {
      "cell_type": "code",
      "source": [
        "class NonStatBandit:\n",
        "  def __init__(self, arms=10):\n",
        "    self.arms = arms\n",
        "    self.rates = np.random.rand(arms)\n",
        "\n",
        "    def play(self, arm):\n",
        "      rate = self.rates[arm]\n",
        "      # Adding Noise\n",
        "      self.rates += 0.1 * np.random.randn(self,arms)\n",
        "      if rate > np.random.rand():\n",
        "        return 1\n",
        "      else:\n",
        "        return 0"
      ],
      "metadata": {
        "id": "UWhMKHraszrw"
      },
      "execution_count": 21,
      "outputs": []
    },
    {
      "cell_type": "markdown",
      "source": [
        "### 1.5.2 Solving non-stationary problems"
      ],
      "metadata": {
        "id": "W-HISTMquAUh"
      }
    },
    {
      "cell_type": "code",
      "source": [
        "class AlphaAgent:\n",
        "  def __init__(self, epsilon, alpha, actions=10):\n",
        "      self.epsilon = epsilon\n",
        "      self.Qs = np.zeros(actions)\n",
        "      self.alpha = alpha\n",
        "  \n",
        "  def update(self, action, reward):\n",
        "    self.Qs[action] += (reward - self.Qs[action]) * self.alpha\n",
        "  \n",
        "  def get_action(self):\n",
        "    if np.random.rand() < self.epsilon:\n",
        "      return np.random.randint(0, len(self.Qs))\n",
        "    return np.argmax(self.Qs)"
      ],
      "metadata": {
        "id": "kfxLYoQOnw7g"
      },
      "execution_count": 22,
      "outputs": []
    },
    {
      "cell_type": "markdown",
      "source": [
        "# Chapter 4 Dynamic Programming"
      ],
      "metadata": {
        "id": "KA5ANJRPofXs"
      }
    },
    {
      "cell_type": "markdown",
      "source": [
        "## 4.2 To the larger issue"
      ],
      "metadata": {
        "id": "ireI9eszt3Dd"
      }
    },
    {
      "cell_type": "markdown",
      "source": [
        "### 4.2.1 Implementation of GridWorld class"
      ],
      "metadata": {
        "id": "i_8Ki4W7uI_k"
      }
    },
    {
      "cell_type": "code",
      "source": [
        "import numpy as np\n",
        "\n",
        "class GridWorld:\n",
        "  def __init__(self):\n",
        "    self.action_space = [0, 1, 2, 3]\n",
        "    self.action_meaning = {\n",
        "        0: \"UP\",\n",
        "        1: \"DOWN\",\n",
        "        2: \"LEFT\",\n",
        "        3: \"RIGHT\",\n",
        "    }\n",
        "\n",
        "    self.reward_map = np.array(\n",
        "        [[0, 0, 0, 1.0],\n",
        "         [0, None, 0, -1.0],\n",
        "         [0, 0, 0, 0]]\n",
        "    )\n",
        "    self.goal_state = (0, 3)\n",
        "    self.wall_state = (1, 1)\n",
        "    self.start_state = (2, 0)\n",
        "    self.agent_state = self.start_state\n",
        "\n",
        "  @property\n",
        "  def height(self):\n",
        "    return len(self.reward_map)\n",
        "\n",
        "  @property\n",
        "  def width(self):\n",
        "    return len(self.reward_map[0])\n",
        "\n",
        "  @property\n",
        "  def shape(self):\n",
        "    return self.reward_map.shape\n",
        "  \n",
        "  def actions(self):\n",
        "    return self.action_space  # [0, 1, 2, 3]\n",
        "  \n",
        "  def states(self):\n",
        "    for h in range(self.height):\n",
        "      for w in range(self.width):\n",
        "        yield (h, w)"
      ],
      "metadata": {
        "id": "QZYqAn-GuZ0l"
      },
      "execution_count": 28,
      "outputs": []
    },
    {
      "cell_type": "code",
      "source": [
        "env = GridWorld()\n",
        "\n",
        "print(env.height)\n",
        "print(env.width)\n",
        "print(env.shape)"
      ],
      "metadata": {
        "colab": {
          "base_uri": "https://localhost:8080/"
        },
        "id": "h-kAqHZPvOCw",
        "outputId": "e011b371-4dc6-45b7-e14f-7de038244d77"
      },
      "execution_count": 29,
      "outputs": [
        {
          "output_type": "stream",
          "name": "stdout",
          "text": [
            "3\n",
            "4\n",
            "(3, 4)\n"
          ]
        }
      ]
    },
    {
      "cell_type": "code",
      "source": [
        "for action in env.actions():\n",
        "  print(action)\n",
        "\n",
        "print('===')\n",
        "\n",
        "for state in env.states():\n",
        "  print(state)"
      ],
      "metadata": {
        "colab": {
          "base_uri": "https://localhost:8080/"
        },
        "id": "SnZJMhk1wk_C",
        "outputId": "27afcda5-f750-48a7-a092-fbfb89b9dd0e"
      },
      "execution_count": 31,
      "outputs": [
        {
          "output_type": "stream",
          "name": "stdout",
          "text": [
            "0\n",
            "1\n",
            "2\n",
            "3\n",
            "===\n",
            "(0, 0)\n",
            "(0, 1)\n",
            "(0, 2)\n",
            "(0, 3)\n",
            "(1, 0)\n",
            "(1, 1)\n",
            "(1, 2)\n",
            "(1, 3)\n",
            "(2, 0)\n",
            "(2, 1)\n",
            "(2, 2)\n",
            "(2, 3)\n"
          ]
        }
      ]
    },
    {
      "cell_type": "code",
      "source": [
        ""
      ],
      "metadata": {
        "id": "58Mi5HgVxwmF"
      },
      "execution_count": null,
      "outputs": []
    }
  ]
}
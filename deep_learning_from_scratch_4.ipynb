{
  "nbformat": 4,
  "nbformat_minor": 0,
  "metadata": {
    "colab": {
      "name": "deep-learning-from-scratch-4.ipynb",
      "provenance": [],
      "authorship_tag": "ABX9TyMfmb76nJ5mXtDAsPnHQg47",
      "include_colab_link": true
    },
    "kernelspec": {
      "name": "python3",
      "display_name": "Python 3"
    },
    "language_info": {
      "name": "python"
    }
  },
  "cells": [
    {
      "cell_type": "markdown",
      "metadata": {
        "id": "view-in-github",
        "colab_type": "text"
      },
      "source": [
        "<a href=\"https://colab.research.google.com/github/matsunori39/deep-learning-from-scratch-4/blob/main/deep_learning_from_scratch_4.ipynb\" target=\"_parent\"><img src=\"https://colab.research.google.com/assets/colab-badge.svg\" alt=\"Open In Colab\"/></a>"
      ]
    },
    {
      "cell_type": "markdown",
      "source": [
        "https://github.com/oreilly-japan/deep-learning-from-scratch-4"
      ],
      "metadata": {
        "id": "cDdiu8kjC3Xj"
      }
    },
    {
      "cell_type": "markdown",
      "source": [
        "# Chapter 1 Bandit problem"
      ],
      "metadata": {
        "id": "lzln6G2AC-7t"
      }
    },
    {
      "cell_type": "markdown",
      "source": [
        "## 1.3 Bandit Algorithm"
      ],
      "metadata": {
        "id": "ksd61JT_DJeN"
      }
    },
    {
      "cell_type": "markdown",
      "source": [
        "### 1.3.2 Implementation to find the average"
      ],
      "metadata": {
        "id": "fRh5wlSTDR6T"
      }
    },
    {
      "cell_type": "code",
      "source": [
        "import numpy as np\n",
        "\n",
        "np.random.seed(0)\n",
        "rewards = []\n",
        "\n",
        "for n in range(1, 11):\n",
        "  reward = np.random.rand()\n",
        "  rewards.append(reward)\n",
        "  Q = sum(rewards) / n\n",
        "  print(Q)"
      ],
      "metadata": {
        "colab": {
          "base_uri": "https://localhost:8080/"
        },
        "id": "8D_aD7_JDgV4",
        "outputId": "22fee8e1-d308-4a66-b9de-89a5b41e6bbd"
      },
      "execution_count": 1,
      "outputs": [
        {
          "output_type": "stream",
          "name": "stdout",
          "text": [
            "0.5488135039273248\n",
            "0.6320014351498722\n",
            "0.6222554154571295\n",
            "0.6029123573420713\n",
            "0.567060845741438\n",
            "0.5801997236289743\n",
            "0.5598265075766483\n",
            "0.6013198192273272\n",
            "0.6415801460355164\n",
            "0.6157662833145425\n"
          ]
        }
      ]
    },
    {
      "cell_type": "code",
      "source": [
        "Q = 0\n",
        "\n",
        "for n in range(1, 11):\n",
        "  reward = np.random.rand()\n",
        "  Q = Q + (reward - Q) / n\n",
        "  # Q += (reward - Q) / n\n",
        "  print(Q)"
      ],
      "metadata": {
        "colab": {
          "base_uri": "https://localhost:8080/"
        },
        "id": "ZqFzVY1HD0Ma",
        "outputId": "4ee1af13-eedc-4250-eb17-a63500e03522"
      },
      "execution_count": 6,
      "outputs": [
        {
          "output_type": "stream",
          "name": "stdout",
          "text": [
            "0.5701967704178796\n",
            "0.5043991419400999\n",
            "0.6657240406464754\n",
            "0.5248042331718635\n",
            "0.4616187377564578\n",
            "0.4115672011112142\n",
            "0.4460730760189548\n",
            "0.4219753918340582\n",
            "0.4269015452809746\n",
            "0.40865394995303744\n"
          ]
        }
      ]
    },
    {
      "cell_type": "markdown",
      "source": [
        "## 1.4 Bandit Algorithm Implementation"
      ],
      "metadata": {
        "id": "pnCAJJO6HKEs"
      }
    },
    {
      "cell_type": "markdown",
      "source": [
        "### 1.4.1 Slot machine implementation"
      ],
      "metadata": {
        "id": "dRBa2_k5IV20"
      }
    },
    {
      "cell_type": "code",
      "source": [
        "import numpy as np\n",
        "\n",
        "class Bandit:\n",
        "  def __init__(self, arms=10):\n",
        "      self.rates = np.random.rand(arms)\n",
        "  \n",
        "  def play(self, arm):\n",
        "    rate = self.rates[arm]\n",
        "    if rate > np.random.rand():\n",
        "      return 1\n",
        "    else:\n",
        "      return 0"
      ],
      "metadata": {
        "id": "TXQwnxyMIni1"
      },
      "execution_count": 9,
      "outputs": []
    },
    {
      "cell_type": "code",
      "source": [
        "bandit = Bandit()\n",
        "\n",
        "for i in range(3):\n",
        "  print(bandit.play(0))"
      ],
      "metadata": {
        "colab": {
          "base_uri": "https://localhost:8080/"
        },
        "id": "qjgWUaySI3aA",
        "outputId": "1a14fee2-d9e1-4256-fb5d-1e2dc4d5799c"
      },
      "execution_count": 11,
      "outputs": [
        {
          "output_type": "stream",
          "name": "stdout",
          "text": [
            "0\n",
            "1\n",
            "1\n"
          ]
        }
      ]
    },
    {
      "cell_type": "markdown",
      "source": [
        "### 1.4.2 エージェントの実装"
      ],
      "metadata": {
        "id": "Yq_uVsoNJcKT"
      }
    },
    {
      "cell_type": "code",
      "source": [
        "bandit = Bandit()\n",
        "Q = 0\n",
        "\n",
        "for n in range(1, 11):\n",
        "  # Play the 0th slot machine\n",
        "  reward = bandit.play(0)\n",
        "  Q += (reward - Q) / n\n",
        "  print(Q)"
      ],
      "metadata": {
        "colab": {
          "base_uri": "https://localhost:8080/"
        },
        "id": "ych64biqJmO-",
        "outputId": "d52a3a03-9903-4e7e-def2-8bad20f9f383"
      },
      "execution_count": 12,
      "outputs": [
        {
          "output_type": "stream",
          "name": "stdout",
          "text": [
            "0.0\n",
            "0.5\n",
            "0.33333333333333337\n",
            "0.5\n",
            "0.4\n",
            "0.5\n",
            "0.4285714285714286\n",
            "0.375\n",
            "0.4444444444444444\n",
            "0.39999999999999997\n"
          ]
        }
      ]
    },
    {
      "cell_type": "code",
      "source": [
        "bandit = Bandit()\n",
        "Qs = np.zeros(10)\n",
        "ns = np.zeros(10)\n",
        "\n",
        "for n in range(10):\n",
        "  action = np.random.randint(0, 10)\n",
        "  reward = bandit.play(action)\n",
        "\n",
        "  ns[action] += 1\n",
        "  Qs[action] += (reward - Qs[action]) / ns[action]\n",
        "  print(Qs)"
      ],
      "metadata": {
        "colab": {
          "base_uri": "https://localhost:8080/"
        },
        "id": "Oa3ExvCgKAjb",
        "outputId": "483e67cd-4fab-4e98-97bd-b2055b39eb17"
      },
      "execution_count": 13,
      "outputs": [
        {
          "output_type": "stream",
          "name": "stdout",
          "text": [
            "[0. 0. 0. 0. 0. 0. 0. 0. 1. 0.]\n",
            "[0. 0. 0. 0. 0. 0. 0. 0. 1. 0.]\n",
            "[0. 0. 0. 0. 0. 0. 0. 0. 1. 0.]\n",
            "[0. 0. 0. 0. 0. 0. 1. 0. 1. 0.]\n",
            "[0. 0. 0. 1. 0. 0. 1. 0. 1. 0.]\n",
            "[0. 0. 0. 1. 0. 0. 1. 0. 1. 0.]\n",
            "[0. 0. 0. 1. 0. 0. 1. 0. 1. 0.]\n",
            "[0. 0. 0. 1. 0. 0. 1. 1. 1. 0.]\n",
            "[0. 0. 0. 1. 0. 0. 1. 1. 1. 0.]\n",
            "[0. 0. 0. 1. 0. 0. 1. 1. 1. 0.]\n"
          ]
        }
      ]
    },
    {
      "cell_type": "code",
      "source": [
        "class Agent:\n",
        "  def __init__(self, epsilon, action_size=10):\n",
        "      self.epsilon = epsilon\n",
        "      self.Qs = np.zeros(action_size)\n",
        "      self.ns = np.zeros(action_size)\n",
        "  \n",
        "  def update(self, action, reward):\n",
        "    self.ns[action] += 1\n",
        "    self.Qs[action] += (reward - self.Qs[action]) / self.ns[action]\n",
        "  \n",
        "  def get_action(self):\n",
        "    if np.random.rand() < self.epsilon:\n",
        "      return np.random.randint(0, len(self.Qs))\n",
        "    return np.argmax(self.Qs)"
      ],
      "metadata": {
        "id": "cfsO7cZ5KmD2"
      },
      "execution_count": 14,
      "outputs": []
    },
    {
      "cell_type": "markdown",
      "source": [
        "### 1.4.3 Let's run"
      ],
      "metadata": {
        "id": "E145LnZMLjPp"
      }
    },
    {
      "cell_type": "code",
      "source": [
        "import matplotlib.pyplot as plt\n",
        "\n",
        "steps = 1000\n",
        "epsilon = 0.1\n",
        "\n",
        "bandit = Bandit()\n",
        "agent = Agent(epsilon)\n",
        "total_reward = 0\n",
        "total_rewards = []\n",
        "rates = []\n",
        "\n",
        "for step in range(steps):\n",
        "  # (1) Choose an action\n",
        "  action = agent.get_action()\n",
        "  # (2) Get rewarded for actually playing\n",
        "  reward = bandit.play(action)\n",
        "  # (3) Learning from Behavior and Rewards\n",
        "  agent.update(action, reward)\n",
        "  total_reward += reward\n",
        "\n",
        "  total_rewards.append(total_reward)\n",
        "  rates.append(total_reward / (step+1))\n",
        "\n",
        "print(total_reward)\n",
        "\n",
        "# Drawing Graphs(1)\n",
        "plt.ylabel('Total reward')\n",
        "plt.xlabel('Steps')\n",
        "plt.plot(total_rewards)\n",
        "plt.show()\n",
        "\n",
        "# Drawing Graphs(2)\n",
        "plt.ylabel('Rates')\n",
        "plt.xlabel('Steps')\n",
        "plt.plot(rates)\n",
        "plt.show()"
      ],
      "metadata": {
        "colab": {
          "base_uri": "https://localhost:8080/",
          "height": 559
        },
        "id": "M0I-j6YdL-z8",
        "outputId": "831fcfcd-9032-4b65-adb9-8f5c926596c2"
      },
      "execution_count": 22,
      "outputs": [
        {
          "output_type": "stream",
          "name": "stdout",
          "text": [
            "476\n"
          ]
        },
        {
          "output_type": "display_data",
          "data": {
            "text/plain": [
              "<Figure size 432x288 with 1 Axes>"
            ],
            "image/png": "[encoded data removed]"
          },
          "metadata": {
            "needs_background": "light"
          }
        },
        {
          "output_type": "display_data",
          "data": {
            "text/plain": [
              "<Figure size 432x288 with 1 Axes>"
            ],
            "image/png": "[encoded data removed]"
          },
          "metadata": {
            "needs_background": "light"
          }
        }
      ]
    },
    {
      "cell_type": "markdown",
      "source": [
        "### 1.4.4 Average nature of the algorithm"
      ],
      "metadata": {
        "id": "wYAePF8nNmBS"
      }
    },
    {
      "cell_type": "code",
      "source": [
        "from math import e\n",
        "runs = 200\n",
        "steps = 1000\n",
        "epsilon = 0.1\n",
        "all_rates = np.zeros((runs, steps))\n",
        "\n",
        "for run in range(runs):\n",
        "  bandit = Bandit()\n",
        "  agent = Agent(epsilon)\n",
        "  total_reward = 0\n",
        "  rates = []\n",
        "\n",
        "  for step in range(steps):\n",
        "    action = agent.get_action()\n",
        "    reward = bandit.play(action)\n",
        "    agent.update(action, reward)\n",
        "    total_reward += reward\n",
        "    rates.append(total_reward / (step+1))\n",
        "  \n",
        "  # (1) Record the results of the reward\n",
        "  all_rates[run] = rates\n",
        "\n",
        "# (2) Find the average value at each step\n",
        "avg_rates = np.average(all_rates, axis=0)\n",
        "\n",
        "# (3) Drawing Graphs\n",
        "plt.ylabel('Rates')\n",
        "plt.xlabel('Steps')\n",
        "plt.plot(avg_rates)\n",
        "plt.show()"
      ],
      "metadata": {
        "colab": {
          "base_uri": "https://localhost:8080/",
          "height": 279
        },
        "id": "A-ACojIVO2Ws",
        "outputId": "de487164-26c7-4fd5-ba8f-187d47ee6cd6"
      },
      "execution_count": 23,
      "outputs": [
        {
          "output_type": "display_data",
          "data": {
            "text/plain": [
              "<Figure size 432x288 with 1 Axes>"
            ],
            "image/png": "[encoded data removed]"
          },
          "metadata": {
            "needs_background": "light"
          }
        }
      ]
    },
    {
      "cell_type": "code",
      "source": [
        ""
      ],
      "metadata": {
        "id": "qGOsqsADQLgk"
      },
      "execution_count": null,
      "outputs": []
    }
  ]
}
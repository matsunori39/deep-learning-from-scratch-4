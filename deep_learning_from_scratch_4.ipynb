{
  "nbformat": 4,
  "nbformat_minor": 0,
  "metadata": {
    "colab": {
      "name": "deep-learning-from-scratch-4.ipynb",
      "provenance": [],
      "authorship_tag": "ABX9TyP4ZYSKqSd/RwhKnJqOZmH9",
      "include_colab_link": true
    },
    "kernelspec": {
      "name": "python3",
      "display_name": "Python 3"
    },
    "language_info": {
      "name": "python"
    }
  },
  "cells": [
    {
      "cell_type": "markdown",
      "metadata": {
        "id": "view-in-github",
        "colab_type": "text"
      },
      "source": [
        "<a href=\"https://colab.research.google.com/github/matsunori39/deep-learning-from-scratch-4/blob/main/deep_learning_from_scratch_4.ipynb\" target=\"_parent\"><img src=\"https://colab.research.google.com/assets/colab-badge.svg\" alt=\"Open In Colab\"/></a>"
      ]
    },
    {
      "cell_type": "markdown",
      "source": [
        "https://github.com/oreilly-japan/deep-learning-from-scratch-4"
      ],
      "metadata": {
        "id": "cDdiu8kjC3Xj"
      }
    },
    {
      "cell_type": "code",
      "source": [
        "!git clone https://github.com/oreilly-japan/deep-learning-from-scratch-4"
      ],
      "metadata": {
        "colab": {
          "base_uri": "https://localhost:8080/"
        },
        "id": "orJ08_JYdqHc",
        "outputId": "0a96cd0d-6730-4b44-a366-30a098f018f4"
      },
      "execution_count": 80,
      "outputs": [
        {
          "output_type": "stream",
          "name": "stdout",
          "text": [
            "Cloning into 'deep-learning-from-scratch-4'...\n",
            "remote: Enumerating objects: 405, done.\u001b[K\n",
            "remote: Counting objects: 100% (14/14), done.\u001b[K\n",
            "remote: Compressing objects: 100% (7/7), done.\u001b[K\n",
            "remote: Total 405 (delta 10), reused 7 (delta 7), pack-reused 391\u001b[K\n",
            "Receiving objects: 100% (405/405), 866.33 KiB | 2.19 MiB/s, done.\n",
            "Resolving deltas: 100% (234/234), done.\n"
          ]
        }
      ]
    },
    {
      "cell_type": "markdown",
      "source": [
        "# Chapter 1 Bandit problem"
      ],
      "metadata": {
        "id": "lzln6G2AC-7t"
      }
    },
    {
      "cell_type": "markdown",
      "source": [
        "## 1.3 Bandit Algorithm"
      ],
      "metadata": {
        "id": "ksd61JT_DJeN"
      }
    },
    {
      "cell_type": "markdown",
      "source": [
        "### 1.3.2 Implementation to find the average"
      ],
      "metadata": {
        "id": "fRh5wlSTDR6T"
      }
    },
    {
      "cell_type": "code",
      "source": [
        "import numpy as np\n",
        "\n",
        "np.random.seed(0)\n",
        "rewards = []\n",
        "\n",
        "for n in range(1, 11):\n",
        "  reward = np.random.rand()\n",
        "  rewards.append(reward)\n",
        "  Q = sum(rewards) / n\n",
        "  print(Q)"
      ],
      "metadata": {
        "colab": {
          "base_uri": "https://localhost:8080/"
        },
        "id": "8D_aD7_JDgV4",
        "outputId": "e0f5eaaa-96b4-47f2-ead3-bd8d46b34e64"
      },
      "execution_count": 81,
      "outputs": [
        {
          "output_type": "stream",
          "name": "stdout",
          "text": [
            "0.5488135039273248\n",
            "0.6320014351498722\n",
            "0.6222554154571295\n",
            "0.6029123573420713\n",
            "0.567060845741438\n",
            "0.5801997236289743\n",
            "0.5598265075766483\n",
            "0.6013198192273272\n",
            "0.6415801460355164\n",
            "0.6157662833145425\n"
          ]
        }
      ]
    },
    {
      "cell_type": "code",
      "source": [
        "Q = 0\n",
        "\n",
        "for n in range(1, 11):\n",
        "  reward = np.random.rand()\n",
        "  Q = Q + (reward - Q) / n\n",
        "  # Q += (reward - Q) / n\n",
        "  print(Q)"
      ],
      "metadata": {
        "colab": {
          "base_uri": "https://localhost:8080/"
        },
        "id": "ZqFzVY1HD0Ma",
        "outputId": "aa6c3513-1ce7-43d6-c033-6e9738b182ca"
      },
      "execution_count": 82,
      "outputs": [
        {
          "output_type": "stream",
          "name": "stdout",
          "text": [
            "0.7917250380826646\n",
            "0.6603099789177845\n",
            "0.6295548396431672\n",
            "0.7035652893055406\n",
            "0.5770594430840099\n",
            "0.49540441918693173\n",
            "0.4275207017945595\n",
            "0.4781580947637318\n",
            "0.5114912787844116\n",
            "0.5473433657306523\n"
          ]
        }
      ]
    },
    {
      "cell_type": "markdown",
      "source": [
        "## 1.4 Bandit Algorithm Implementation"
      ],
      "metadata": {
        "id": "pnCAJJO6HKEs"
      }
    },
    {
      "cell_type": "markdown",
      "source": [
        "### 1.4.1 Slot machine implementation"
      ],
      "metadata": {
        "id": "dRBa2_k5IV20"
      }
    },
    {
      "cell_type": "code",
      "source": [
        "import numpy as np\n",
        "\n",
        "class Bandit:\n",
        "  def __init__(self, arms=10):\n",
        "      self.rates = np.random.rand(arms)\n",
        "  \n",
        "  def play(self, arm):\n",
        "    rate = self.rates[arm]\n",
        "    if rate > np.random.rand():\n",
        "      return 1\n",
        "    else:\n",
        "      return 0"
      ],
      "metadata": {
        "id": "TXQwnxyMIni1"
      },
      "execution_count": 83,
      "outputs": []
    },
    {
      "cell_type": "code",
      "source": [
        "bandit = Bandit()\n",
        "\n",
        "for i in range(3):\n",
        "  print(bandit.play(0))"
      ],
      "metadata": {
        "colab": {
          "base_uri": "https://localhost:8080/"
        },
        "id": "qjgWUaySI3aA",
        "outputId": "964719e3-c476-408c-d42e-2299bdcdd91d"
      },
      "execution_count": 84,
      "outputs": [
        {
          "output_type": "stream",
          "name": "stdout",
          "text": [
            "1\n",
            "1\n",
            "1\n"
          ]
        }
      ]
    },
    {
      "cell_type": "markdown",
      "source": [
        "### 1.4.2 Agent Implementation\n"
      ],
      "metadata": {
        "id": "Yq_uVsoNJcKT"
      }
    },
    {
      "cell_type": "code",
      "source": [
        "bandit = Bandit()\n",
        "Q = 0\n",
        "\n",
        "for n in range(1, 11):\n",
        "  # Play the 0th slot machine\n",
        "  reward = bandit.play(0)\n",
        "  Q += (reward - Q) / n\n",
        "  print(Q)"
      ],
      "metadata": {
        "colab": {
          "base_uri": "https://localhost:8080/"
        },
        "id": "ych64biqJmO-",
        "outputId": "9640fa3f-58db-4688-fdeb-d10c304eede7"
      },
      "execution_count": 85,
      "outputs": [
        {
          "output_type": "stream",
          "name": "stdout",
          "text": [
            "1.0\n",
            "0.5\n",
            "0.33333333333333337\n",
            "0.5\n",
            "0.6\n",
            "0.6666666666666666\n",
            "0.7142857142857143\n",
            "0.625\n",
            "0.6666666666666666\n",
            "0.6\n"
          ]
        }
      ]
    },
    {
      "cell_type": "code",
      "source": [
        "bandit = Bandit()\n",
        "Qs = np.zeros(10)\n",
        "ns = np.zeros(10)\n",
        "\n",
        "for n in range(10):\n",
        "  action = np.random.randint(0, 10)\n",
        "  reward = bandit.play(action)\n",
        "\n",
        "  ns[action] += 1\n",
        "  Qs[action] += (reward - Qs[action]) / ns[action]\n",
        "  print(Qs)"
      ],
      "metadata": {
        "colab": {
          "base_uri": "https://localhost:8080/"
        },
        "id": "Oa3ExvCgKAjb",
        "outputId": "5b55cf51-be46-4bdc-84bf-46fa84da2228"
      },
      "execution_count": 86,
      "outputs": [
        {
          "output_type": "stream",
          "name": "stdout",
          "text": [
            "[0. 0. 0. 0. 0. 0. 0. 0. 0. 0.]\n",
            "[0. 0. 0. 1. 0. 0. 0. 0. 0. 0.]\n",
            "[0. 0. 0. 1. 0. 1. 0. 0. 0. 0.]\n",
            "[0. 0. 0. 1. 0. 1. 0. 0. 0. 0.]\n",
            "[0. 0. 0. 1. 0. 1. 0. 0. 0. 0.]\n",
            "[0. 0. 0. 1. 0. 1. 0. 0. 0. 0.]\n",
            "[0. 0. 0. 1. 0. 1. 0. 0. 0. 0.]\n",
            "[0. 0. 0. 1. 0. 1. 0. 0. 0. 1.]\n",
            "[0. 0. 0. 1. 0. 1. 0. 0. 0. 1.]\n",
            "[0. 0. 0. 1. 0. 1. 0. 0. 0. 1.]\n"
          ]
        }
      ]
    },
    {
      "cell_type": "code",
      "source": [
        "class Agent:\n",
        "  def __init__(self, epsilon, action_size=10):\n",
        "      self.epsilon = epsilon\n",
        "      self.Qs = np.zeros(action_size)\n",
        "      self.ns = np.zeros(action_size)\n",
        "  \n",
        "  def update(self, action, reward):\n",
        "    self.ns[action] += 1\n",
        "    self.Qs[action] += (reward - self.Qs[action]) / self.ns[action]\n",
        "  \n",
        "  def get_action(self):\n",
        "    if np.random.rand() < self.epsilon:\n",
        "      return np.random.randint(0, len(self.Qs))\n",
        "    return np.argmax(self.Qs)"
      ],
      "metadata": {
        "id": "cfsO7cZ5KmD2"
      },
      "execution_count": 87,
      "outputs": []
    },
    {
      "cell_type": "markdown",
      "source": [
        "### 1.4.3 Let's run"
      ],
      "metadata": {
        "id": "E145LnZMLjPp"
      }
    },
    {
      "cell_type": "code",
      "source": [
        "import matplotlib.pyplot as plt\n",
        "\n",
        "steps = 1000\n",
        "epsilon = 0.1\n",
        "\n",
        "bandit = Bandit()\n",
        "agent = Agent(epsilon)\n",
        "total_reward = 0\n",
        "total_rewards = []\n",
        "rates = []\n",
        "\n",
        "for step in range(steps):\n",
        "  # (1) Choose an action\n",
        "  action = agent.get_action()\n",
        "  # (2) Get rewarded for actually playing\n",
        "  reward = bandit.play(action)\n",
        "  # (3) Learning from Behavior and Rewards\n",
        "  agent.update(action, reward)\n",
        "  total_reward += reward\n",
        "\n",
        "  total_rewards.append(total_reward)\n",
        "  rates.append(total_reward / (step+1))\n",
        "\n",
        "print(total_reward)\n",
        "\n",
        "# Drawing Graphs(1)\n",
        "plt.ylabel('Total reward')\n",
        "plt.xlabel('Steps')\n",
        "plt.plot(total_rewards)\n",
        "plt.show()\n",
        "\n",
        "# Drawing Graphs(2)\n",
        "plt.ylabel('Rates')\n",
        "plt.xlabel('Steps')\n",
        "plt.plot(rates)\n",
        "plt.show()"
      ],
      "metadata": {
        "colab": {
          "base_uri": "https://localhost:8080/",
          "height": 0
        },
        "id": "M0I-j6YdL-z8",
        "outputId": "d5056af3-8c25-4c0a-a921-c85479c3c11d"
      },
      "execution_count": 88,
      "outputs": [
        {
          "output_type": "stream",
          "name": "stdout",
          "text": [
            "892\n"
          ]
        },
        {
          "output_type": "display_data",
          "data": {
            "text/plain": [
              "<Figure size 432x288 with 1 Axes>"
            ],
            "image/png": "[encoded data removed]"
          },
          "metadata": {
            "needs_background": "light"
          }
        },
        {
          "output_type": "display_data",
          "data": {
            "text/plain": [
              "<Figure size 432x288 with 1 Axes>"
            ],
            "image/png": "[encoded data removed]"
          },
          "metadata": {
            "needs_background": "light"
          }
        }
      ]
    },
    {
      "cell_type": "markdown",
      "source": [
        "### 1.4.4 Average nature of the algorithm"
      ],
      "metadata": {
        "id": "wYAePF8nNmBS"
      }
    },
    {
      "cell_type": "code",
      "source": [
        "from math import e\n",
        "runs = 200\n",
        "steps = 1000\n",
        "epsilon = 0.1\n",
        "all_rates = np.zeros((runs, steps))\n",
        "\n",
        "for run in range(runs):\n",
        "  bandit = Bandit()\n",
        "  agent = Agent(epsilon)\n",
        "  total_reward = 0\n",
        "  rates = []\n",
        "\n",
        "  for step in range(steps):\n",
        "    action = agent.get_action()\n",
        "    reward = bandit.play(action)\n",
        "    agent.update(action, reward)\n",
        "    total_reward += reward\n",
        "    rates.append(total_reward / (step+1))\n",
        "  \n",
        "  # (1) Record the results of the reward\n",
        "  all_rates[run] = rates\n",
        "\n",
        "# (2) Find the average value at each step\n",
        "avg_rates = np.average(all_rates, axis=0)\n",
        "\n",
        "# (3) Drawing Graphs\n",
        "plt.ylabel('Rates')\n",
        "plt.xlabel('Steps')\n",
        "plt.plot(avg_rates)\n",
        "plt.show()"
      ],
      "metadata": {
        "colab": {
          "base_uri": "https://localhost:8080/",
          "height": 279
        },
        "id": "A-ACojIVO2Ws",
        "outputId": "ef1cb265-986b-4ed0-ef24-c788117bdba0"
      },
      "execution_count": 89,
      "outputs": [
        {
          "output_type": "display_data",
          "data": {
            "text/plain": [
              "<Figure size 432x288 with 1 Axes>"
            ],
            "image/png": "[encoded data removed]"
          },
          "metadata": {
            "needs_background": "light"
          }
        }
      ]
    },
    {
      "cell_type": "markdown",
      "source": [
        "## 1.5 nonstationary problem"
      ],
      "metadata": {
        "id": "qGOsqsADQLgk"
      }
    },
    {
      "cell_type": "code",
      "source": [
        "class NonStatBandit:\n",
        "  def __init__(self, arms=10):\n",
        "    self.arms = arms\n",
        "    self.rates = np.random.rand(arms)\n",
        "\n",
        "    def play(self, arm):\n",
        "      rate = self.rates[arm]\n",
        "      # Adding Noise\n",
        "      self.rates += 0.1 * np.random.randn(self,arms)\n",
        "      if rate > np.random.rand():\n",
        "        return 1\n",
        "      else:\n",
        "        return 0"
      ],
      "metadata": {
        "id": "UWhMKHraszrw"
      },
      "execution_count": 90,
      "outputs": []
    },
    {
      "cell_type": "markdown",
      "source": [
        "### 1.5.2 Solving non-stationary problems"
      ],
      "metadata": {
        "id": "W-HISTMquAUh"
      }
    },
    {
      "cell_type": "code",
      "source": [
        "class AlphaAgent:\n",
        "  def __init__(self, epsilon, alpha, actions=10):\n",
        "      self.epsilon = epsilon\n",
        "      self.Qs = np.zeros(actions)\n",
        "      self.alpha = alpha\n",
        "  \n",
        "  def update(self, action, reward):\n",
        "    self.Qs[action] += (reward - self.Qs[action]) * self.alpha\n",
        "  \n",
        "  def get_action(self):\n",
        "    if np.random.rand() < self.epsilon:\n",
        "      return np.random.randint(0, len(self.Qs))\n",
        "    return np.argmax(self.Qs)"
      ],
      "metadata": {
        "id": "kfxLYoQOnw7g"
      },
      "execution_count": 91,
      "outputs": []
    },
    {
      "cell_type": "markdown",
      "source": [
        "# Chapter 4 Dynamic Programming"
      ],
      "metadata": {
        "id": "KA5ANJRPofXs"
      }
    },
    {
      "cell_type": "markdown",
      "source": [
        "## 4.2 To the larger issue"
      ],
      "metadata": {
        "id": "ireI9eszt3Dd"
      }
    },
    {
      "cell_type": "markdown",
      "source": [
        "### 4.2.1 Implementation of GridWorld class"
      ],
      "metadata": {
        "id": "i_8Ki4W7uI_k"
      }
    },
    {
      "cell_type": "code",
      "source": [
        "%pwd"
      ],
      "metadata": {
        "colab": {
          "base_uri": "https://localhost:8080/",
          "height": 36
        },
        "id": "z7sJTj0ceRxf",
        "outputId": "772238f0-1b1b-4bb1-dd38-28891abe975b"
      },
      "execution_count": 92,
      "outputs": [
        {
          "output_type": "execute_result",
          "data": {
            "text/plain": [
              "'/content/deep-learning-from-scratch-4'"
            ],
            "application/vnd.google.colaboratory.intrinsic+json": {
              "type": "string"
            }
          },
          "metadata": {},
          "execution_count": 92
        }
      ]
    },
    {
      "cell_type": "code",
      "source": [
        "%ls"
      ],
      "metadata": {
        "colab": {
          "base_uri": "https://localhost:8080/"
        },
        "id": "WLKbpVTVeUSp",
        "outputId": "c03ad6a1-0bb7-4922-ee25-1fee5207cf15"
      },
      "execution_count": 93,
      "outputs": [
        {
          "output_type": "stream",
          "name": "stdout",
          "text": [
            "\u001b[0m\u001b[01;34mch01\u001b[0m/  \u001b[01;34mch06\u001b[0m/  \u001b[01;34mch09\u001b[0m/                          LICENSE.md  README.md\n",
            "\u001b[01;34mch04\u001b[0m/  \u001b[01;34mch07\u001b[0m/  \u001b[01;34mcommon\u001b[0m/                        \u001b[01;34mnotebooks\u001b[0m/\n",
            "\u001b[01;34mch05\u001b[0m/  \u001b[01;34mch08\u001b[0m/  \u001b[01;34mdeep-learning-from-scratch-4\u001b[0m/  \u001b[01;34mpytorch\u001b[0m/\n"
          ]
        }
      ]
    },
    {
      "cell_type": "code",
      "source": [
        "%cd /content/deep-learning-from-scratch-4"
      ],
      "metadata": {
        "colab": {
          "base_uri": "https://localhost:8080/"
        },
        "id": "OeLN6KN2eWdD",
        "outputId": "5318449a-f1f4-4153-bb87-da1b34883fc1"
      },
      "execution_count": 94,
      "outputs": [
        {
          "output_type": "stream",
          "name": "stdout",
          "text": [
            "/content/deep-learning-from-scratch-4\n"
          ]
        }
      ]
    },
    {
      "cell_type": "code",
      "source": [
        "import numpy as np\n",
        "import common.gridworld_render as render_helper\n",
        "\n",
        "class GridWorld:\n",
        "  def __init__(self):\n",
        "    self.action_space = [0, 1, 2, 3]\n",
        "    self.action_meaning = {\n",
        "        0: \"UP\",\n",
        "        1: \"DOWN\",\n",
        "        2: \"LEFT\",\n",
        "        3: \"RIGHT\",\n",
        "    }\n",
        "\n",
        "    self.reward_map = np.array(\n",
        "        [[0, 0, 0, 1.0],\n",
        "         [0, None, 0, -1.0],\n",
        "         [0, 0, 0, 0]]\n",
        "    )\n",
        "    self.goal_state = (0, 3)\n",
        "    self.wall_state = (1, 1)\n",
        "    self.start_state = (2, 0)\n",
        "    self.agent_state = self.start_state\n",
        "\n",
        "  @property\n",
        "  def height(self):\n",
        "    return len(self.reward_map)\n",
        "\n",
        "  @property\n",
        "  def width(self):\n",
        "    return len(self.reward_map[0])\n",
        "\n",
        "  @property\n",
        "  def shape(self):\n",
        "    return self.reward_map.shape\n",
        "  \n",
        "  def actions(self):\n",
        "    return self.action_space  # [0, 1, 2, 3]\n",
        "  \n",
        "  def states(self):\n",
        "    for h in range(self.height):\n",
        "      for w in range(self.width):\n",
        "        yield (h, w)\n",
        "  \n",
        "  def next_state(self, state, action):\n",
        "    # (1) Calculate the destination location\n",
        "    action_move_map = [(-1, 0), (1, 0), (0, -1), (0, 1)]\n",
        "    move = action_move_map[action]\n",
        "    next_state = (state[0] + move[0], state[1] + move[1])\n",
        "    ny, nx = next_state\n",
        "\n",
        "    # (2) Is the destination outside the GridWorld frame or is the destination a wall?\n",
        "    if nx < 0 or nx >= self.width or ny < 0 or ny >= self.height:\n",
        "      next_state = state\n",
        "    elif next_state == self.wall_state:\n",
        "      next_state = state\n",
        "    \n",
        "    return next_state\n",
        "\n",
        "  def reward(self, state, action, next_state):\n",
        "    return self.reward_map[next_state]\n",
        "  \n",
        "  def reset(self):\n",
        "    self.agent_state = self.start_state\n",
        "    return self.agent_state\n",
        "  \n",
        "  def step(self, action):\n",
        "    state = self.agent_state\n",
        "    next_state = self.next_state(state, action)\n",
        "    reward = self.reward(state, action, next_state)\n",
        "    done = (next_state == self.goal_state)\n",
        "\n",
        "    self.agent_state = next_state\n",
        "    return next_state, reward, done\n",
        "  \n",
        "  def render_v(self, v=None, policy=None, print_value=True):\n",
        "        renderer = render_helper.Renderer(self.reward_map, self.goal_state,\n",
        "                                          self.wall_state)\n",
        "        renderer.render_v(v, policy, print_value)"
      ],
      "metadata": {
        "id": "QZYqAn-GuZ0l"
      },
      "execution_count": 136,
      "outputs": []
    },
    {
      "cell_type": "code",
      "source": [
        "env = GridWorld()\n",
        "\n",
        "print(env.height)\n",
        "print(env.width)\n",
        "print(env.shape)"
      ],
      "metadata": {
        "colab": {
          "base_uri": "https://localhost:8080/"
        },
        "id": "h-kAqHZPvOCw",
        "outputId": "15426aae-fa03-4ca9-82d8-07fd2655d7bb"
      },
      "execution_count": 96,
      "outputs": [
        {
          "output_type": "stream",
          "name": "stdout",
          "text": [
            "3\n",
            "4\n",
            "(3, 4)\n"
          ]
        }
      ]
    },
    {
      "cell_type": "code",
      "source": [
        "for action in env.actions():\n",
        "  print(action)\n",
        "\n",
        "print('===')\n",
        "\n",
        "for state in env.states():\n",
        "  print(state)"
      ],
      "metadata": {
        "colab": {
          "base_uri": "https://localhost:8080/"
        },
        "id": "SnZJMhk1wk_C",
        "outputId": "a93ab23b-5c25-4ad9-871b-2a1eb3031042"
      },
      "execution_count": 97,
      "outputs": [
        {
          "output_type": "stream",
          "name": "stdout",
          "text": [
            "0\n",
            "1\n",
            "2\n",
            "3\n",
            "===\n",
            "(0, 0)\n",
            "(0, 1)\n",
            "(0, 2)\n",
            "(0, 3)\n",
            "(1, 0)\n",
            "(1, 1)\n",
            "(1, 2)\n",
            "(1, 3)\n",
            "(2, 0)\n",
            "(2, 1)\n",
            "(2, 2)\n",
            "(2, 3)\n"
          ]
        }
      ]
    },
    {
      "cell_type": "code",
      "source": [
        "env = GridWorld()\n",
        "env.render_v()"
      ],
      "metadata": {
        "colab": {
          "base_uri": "https://localhost:8080/",
          "height": 252
        },
        "id": "RjoJScg3gF1J",
        "outputId": "08a6c009-924d-4c17-fc92-a04c4e19a9d4"
      },
      "execution_count": 98,
      "outputs": [
        {
          "output_type": "display_data",
          "data": {
            "text/plain": [
              "<Figure size 432x288 with 1 Axes>"
            ],
            "image/png": "[encoded data removed]"
          },
          "metadata": {}
        }
      ]
    },
    {
      "cell_type": "code",
      "source": [
        "env = GridWorld()\n",
        "V = {}\n",
        "for state in env.states():\n",
        "  # Dummy state value function\n",
        "  V[state] = np.random.randn()\n",
        "env.render_v(V)"
      ],
      "metadata": {
        "colab": {
          "base_uri": "https://localhost:8080/",
          "height": 252
        },
        "id": "P4etvobigMHs",
        "outputId": "8045e9ae-bf6e-4985-dbca-d1f2c0c76d6c"
      },
      "execution_count": 99,
      "outputs": [
        {
          "output_type": "display_data",
          "data": {
            "text/plain": [
              "<Figure size 432x288 with 1 Axes>"
            ],
            "image/png": "[encoded data removed]"
          },
          "metadata": {}
        }
      ]
    },
    {
      "cell_type": "markdown",
      "source": [
        "### 4.2.2 How to use defaultdict"
      ],
      "metadata": {
        "id": "58Mi5HgVxwmF"
      }
    },
    {
      "cell_type": "code",
      "source": [
        "env = GridWorld()\n",
        "V = {}\n",
        "\n",
        "# Initialize dictionary elements\n",
        "for state in env.states():\n",
        "  V[state] = 0\n",
        "\n",
        "state = (1, 2)\n",
        "# Output value function for state (1, 2)\n",
        "print(V[state])"
      ],
      "metadata": {
        "colab": {
          "base_uri": "https://localhost:8080/"
        },
        "id": "-2Ft2zNUYZlF",
        "outputId": "5545df1d-a3e1-4b63-a269-8ba8c10bad42"
      },
      "execution_count": 100,
      "outputs": [
        {
          "output_type": "stream",
          "name": "stdout",
          "text": [
            "0\n"
          ]
        }
      ]
    },
    {
      "cell_type": "code",
      "source": [
        "from collections import defaultdict\n",
        "\n",
        "env = GridWorld()\n",
        "V = defaultdict(lambda: 0)\n",
        "\n",
        "state = (1, 2)\n",
        "print(V[state])"
      ],
      "metadata": {
        "colab": {
          "base_uri": "https://localhost:8080/"
        },
        "id": "Z-RgPGyoYzaO",
        "outputId": "a5a4455a-d427-468c-a0d9-1295218fcba2"
      },
      "execution_count": 101,
      "outputs": [
        {
          "output_type": "stream",
          "name": "stdout",
          "text": [
            "0\n"
          ]
        }
      ]
    },
    {
      "cell_type": "code",
      "source": [
        "pi = defaultdict(lambda: {0: 0.25, 1: 0.25, 2: 0.25, 3: 0.25})\n",
        "\n",
        "state = (0, 1)\n",
        "print(pi[state])"
      ],
      "metadata": {
        "colab": {
          "base_uri": "https://localhost:8080/"
        },
        "id": "DdazXMBMZQRY",
        "outputId": "818a32df-7aa1-4719-ec4a-a8ec2c0ef6ec"
      },
      "execution_count": 102,
      "outputs": [
        {
          "output_type": "stream",
          "name": "stdout",
          "text": [
            "{0: 0.25, 1: 0.25, 2: 0.25, 3: 0.25}\n"
          ]
        }
      ]
    },
    {
      "cell_type": "markdown",
      "source": [
        "### 4.2.3 Implementaion of Iterative Measure Evaluation"
      ],
      "metadata": {
        "id": "-YFS_XhvZqUb"
      }
    },
    {
      "cell_type": "code",
      "source": [
        "def eval_onestep(pi, V, env, gamma=0.9):\n",
        "  # (1) Access to each state\n",
        "  for state in env.states():\n",
        "    # (2) The goal value function is always θ\n",
        "    if state == env.goal_state:\n",
        "      V[state] = 0\n",
        "      continue\n",
        "    \n",
        "    # 'probs' stands for probabilities\n",
        "    action_probs = pi[state]\n",
        "    new_V = 0\n",
        "\n",
        "    # (3) Access to each action\n",
        "    for action, action_prob in action_probs.items():\n",
        "      next_state = env.next_state(state, action)\n",
        "      r = env.reward(state, action, next_state)\n",
        "      # (4) New value function\n",
        "      new_V += action_prob * (r + gamma * V[next_state])\n",
        "    V[state] = new_V\n",
        "  return V"
      ],
      "metadata": {
        "id": "cul4C2eUaEMO"
      },
      "execution_count": 103,
      "outputs": []
    },
    {
      "cell_type": "code",
      "source": [
        "def policy_eval(pi, V, env, gamma, threshold=0.001):\n",
        "  while True:\n",
        "    # Vale function before update\n",
        "    old_V = V.copy()\n",
        "    V = eval_onestep(pi, V, env, gamma)\n",
        "\n",
        "    # Find the maximum value of the updated quantity\n",
        "    delta = 0\n",
        "    for state in V.keys():\n",
        "      t = abs(V[state] - old_V[state])\n",
        "      if delta < t:\n",
        "        delta = t\n",
        "    \n",
        "    # Comparison with threshold\n",
        "    if delta < threshold:\n",
        "      break\n",
        "  return V"
      ],
      "metadata": {
        "id": "SSu4HMXDcF5I"
      },
      "execution_count": 104,
      "outputs": []
    },
    {
      "cell_type": "code",
      "source": [
        "env = GridWorld()\n",
        "gamma = 0.9\n",
        "\n",
        "pi = defaultdict(lambda: {0: 0.25, 1: 0.25, 2: 0.25, 3: 0.25})\n",
        "V = defaultdict(lambda: 0)\n",
        "\n",
        "V = policy_eval(pi, V, env, gamma)\n",
        "env.render_v(V, pi)"
      ],
      "metadata": {
        "colab": {
          "base_uri": "https://localhost:8080/",
          "height": 252
        },
        "id": "yt95YP-dda69",
        "outputId": "76e71841-2d5b-4a42-976e-8e50e112a428"
      },
      "execution_count": 105,
      "outputs": [
        {
          "output_type": "display_data",
          "data": {
            "text/plain": [
              "<Figure size 432x288 with 1 Axes>"
            ],
            "image/png": "[encoded data removed]"
          },
          "metadata": {}
        }
      ]
    },
    {
      "cell_type": "markdown",
      "source": [
        "## 4.4 Policy Iteration Implementation"
      ],
      "metadata": {
        "id": "dxj2Thf9jG4W"
      }
    },
    {
      "cell_type": "markdown",
      "source": [
        "### 4.4.1 Improvement of measures"
      ],
      "metadata": {
        "id": "aUCHNNehk-t0"
      }
    },
    {
      "cell_type": "code",
      "source": [
        "def argmax(d):\n",
        "  max_value = max(d.values())\n",
        "  max_key = 0\n",
        "  for key, value in d.items():\n",
        "    if value == max_value:\n",
        "      max_key = key\n",
        "  return max_key"
      ],
      "metadata": {
        "id": "kJ7vV1ZplI2p"
      },
      "execution_count": 106,
      "outputs": []
    },
    {
      "cell_type": "code",
      "source": [
        "action_values = {0: 0.1, 1: -0.3, 2: 9.9, 3: -1.3}\n",
        "\n",
        "max_action = argmax(action_values)\n",
        "print(max_action)"
      ],
      "metadata": {
        "colab": {
          "base_uri": "https://localhost:8080/"
        },
        "id": "YyPY2zKQllhW",
        "outputId": "64edffa5-2d63-489e-c75a-10f4aee1bb5a"
      },
      "execution_count": 107,
      "outputs": [
        {
          "output_type": "stream",
          "name": "stdout",
          "text": [
            "2\n"
          ]
        }
      ]
    },
    {
      "cell_type": "code",
      "source": [
        "def greedy_policy(V, env, gamma):\n",
        "  pi = {}\n",
        "\n",
        "  for state in env.states():\n",
        "    action_values = {}\n",
        "\n",
        "    for action in env.actions():\n",
        "      next_state = env.next_state(state, action)\n",
        "      r = env.reward(state, action, next_state)\n",
        "      value = r + gamma * V[next_state]\n",
        "      action_values[action] = value\n",
        "\n",
        "      max_action = argmax(action_values)\n",
        "      action_probs = {0: 0, 1: 0, 2: 0, 3: 0}\n",
        "      action_probs[max_action] = 1.0\n",
        "      pi[state] = action_probs\n",
        "  return pi"
      ],
      "metadata": {
        "id": "IH7y3-LZl0VD"
      },
      "execution_count": 108,
      "outputs": []
    },
    {
      "cell_type": "code",
      "source": [
        "def policy_iter(env, gamma, threshold=0.001, is_render=True):\n",
        "  pi = defaultdict(lambda: {0: 0.25, 1: 0.25, 2: 0.25, 3: 0.25})\n",
        "  V = defaultdict(lambda: 0)\n",
        "\n",
        "  while True:\n",
        "    # (1) evaluation\n",
        "    V = policy_eval(pi, V, env, gamma, threshold)\n",
        "    # (2) improvement\n",
        "    new_pi = greedy_policy(V, env, gamma)\n",
        "\n",
        "    if is_render:\n",
        "      env.render_v(V, pi)\n",
        "    \n",
        "    # (3) Update Check\n",
        "    if new_pi == pi:\n",
        "      break\n",
        "    pi = new_pi\n",
        "\n",
        "  return pi"
      ],
      "metadata": {
        "id": "MAGFeOUtm2Ti"
      },
      "execution_count": 109,
      "outputs": []
    },
    {
      "cell_type": "code",
      "source": [
        "env = GridWorld()\n",
        "gamma = 0.9\n",
        "pi = policy_iter(env, gamma)"
      ],
      "metadata": {
        "colab": {
          "base_uri": "https://localhost:8080/",
          "height": 1000
        },
        "id": "7BY-aQ6QoA3V",
        "outputId": "110bfa7e-c0f9-49ad-9a7c-03ae53b6755b"
      },
      "execution_count": 110,
      "outputs": [
        {
          "output_type": "display_data",
          "data": {
            "text/plain": [
              "<Figure size 432x288 with 1 Axes>"
            ],
            "image/png": "[encoded data removed]"
          },
          "metadata": {}
        },
        {
          "output_type": "display_data",
          "data": {
            "text/plain": [
              "<Figure size 432x288 with 1 Axes>"
            ],
            "image/png": "[encoded data removed]"
          },
          "metadata": {}
        },
        {
          "output_type": "display_data",
          "data": {
            "text/plain": [
              "<Figure size 432x288 with 1 Axes>"
            ],
            "image/png": "[encoded data removed]"
          },
          "metadata": {}
        },
        {
          "output_type": "display_data",
          "data": {
            "text/plain": [
              "<Figure size 432x288 with 1 Axes>"
            ],
            "image/png": "[encoded data removed]"
          },
          "metadata": {}
        },
        {
          "output_type": "display_data",
          "data": {
            "text/plain": [
              "<Figure size 432x288 with 1 Axes>"
            ],
            "image/png": "[encoded data removed]"
          },
          "metadata": {}
        }
      ]
    },
    {
      "cell_type": "code",
      "source": [
        "def value_iter_onestep(V, env, gamma):\n",
        "    for state in env.states():\n",
        "        if state == env.goal_state:\n",
        "            V[state] = 0\n",
        "            continue\n",
        "\n",
        "        action_values = []\n",
        "        for action in env.actions():\n",
        "            next_state = env.next_state(state, action)\n",
        "            r = env.reward(state, action, next_state)\n",
        "            value = r + gamma * V[next_state]\n",
        "            action_values.append(value)\n",
        "\n",
        "        V[state] = max(action_values)\n",
        "    return V"
      ],
      "metadata": {
        "id": "36VfQpokoRW4"
      },
      "execution_count": 111,
      "outputs": []
    },
    {
      "cell_type": "code",
      "source": [
        "def value_iter(V, env, gamma, threshold=0.001, is_render=True):\n",
        "    while True:\n",
        "        if is_render:\n",
        "            env.render_v(V)\n",
        "\n",
        "        old_V = V.copy()\n",
        "        V = value_iter_onestep(V, env, gamma)\n",
        "\n",
        "        delta = 0\n",
        "        for state in V.keys():\n",
        "            t = abs(V[state] - old_V[state])\n",
        "            if delta < t:\n",
        "                delta = t\n",
        "\n",
        "        if delta < threshold:\n",
        "            break\n",
        "    return V"
      ],
      "metadata": {
        "id": "wPyiPvqZr360"
      },
      "execution_count": 112,
      "outputs": []
    },
    {
      "cell_type": "code",
      "source": [
        "V = defaultdict(lambda: 0)\n",
        "env = GridWorld()\n",
        "gamma = 0.9\n",
        "\n",
        "V = value_iter(V, env, gamma)\n",
        "\n",
        "pi = greedy_policy(V, env, gamma)\n",
        "env.render_v(V, pi)"
      ],
      "metadata": {
        "colab": {
          "base_uri": "https://localhost:8080/",
          "height": 1000
        },
        "id": "CaWIQm1jswI9",
        "outputId": "f25de122-7fc3-4fb2-b508-e08e455d02de"
      },
      "execution_count": 113,
      "outputs": [
        {
          "output_type": "display_data",
          "data": {
            "text/plain": [
              "<Figure size 432x288 with 1 Axes>"
            ],
            "image/png": "[encoded data removed]"
          },
          "metadata": {}
        },
        {
          "output_type": "display_data",
          "data": {
            "text/plain": [
              "<Figure size 432x288 with 1 Axes>"
            ],
            "image/png": "[encoded data removed]"
          },
          "metadata": {}
        },
        {
          "output_type": "display_data",
          "data": {
            "text/plain": [
              "<Figure size 432x288 with 1 Axes>"
            ],
            "image/png": "[encoded data removed]"
          },
          "metadata": {}
        },
        {
          "output_type": "display_data",
          "data": {
            "text/plain": [
              "<Figure size 432x288 with 1 Axes>"
            ],
            "image/png": "[encoded data removed]"
          },
          "metadata": {}
        },
        {
          "output_type": "display_data",
          "data": {
            "text/plain": [
              "<Figure size 432x288 with 1 Axes>"
            ],
            "image/png": "[encoded data removed]"
          },
          "metadata": {}
        }
      ]
    },
    {
      "cell_type": "markdown",
      "source": [
        "# Chapter 5 Monte Carlo method"
      ],
      "metadata": {
        "id": "vRUd6FP2tJX2"
      }
    },
    {
      "cell_type": "markdown",
      "source": [
        "## 5.1 Basics of Monte Carlo Method"
      ],
      "metadata": {
        "id": "QvSHf8Qc67jj"
      }
    },
    {
      "cell_type": "markdown",
      "source": [
        "### 5.1.1 Sum of the dice"
      ],
      "metadata": {
        "id": "FrWOtHox7Lnr"
      }
    },
    {
      "cell_type": "code",
      "source": [
        "ps = {2: 1/36, 3: 2/36, 4: 3/36, 5: 4/36, 6: 5/36, 7: 6/36,\n",
        "      8: 5/36, 9: 4/36, 10: 3/36, 11: 2/36, 12: 1/36}\n",
        "\n",
        "V = 0\n",
        "for x, p in ps.items():\n",
        "  V += x*p\n",
        "print(V)"
      ],
      "metadata": {
        "colab": {
          "base_uri": "https://localhost:8080/"
        },
        "id": "C7bHUvhh7Uop",
        "outputId": "044e1636-4a9e-406a-c9f6-c64ee21483b7"
      },
      "execution_count": 114,
      "outputs": [
        {
          "output_type": "stream",
          "name": "stdout",
          "text": [
            "6.999999999999999\n"
          ]
        }
      ]
    },
    {
      "cell_type": "code",
      "source": [
        "import numpy as np\n",
        "\n",
        "def sample(dices=2):\n",
        "  x = 0\n",
        "  for _ in range(dices):\n",
        "    x += np.random.choice([1, 2, 3, 4, 5, 6])\n",
        "  return x"
      ],
      "metadata": {
        "id": "gT_iG2ua73_z"
      },
      "execution_count": 115,
      "outputs": []
    },
    {
      "cell_type": "code",
      "source": [
        "print(sample())\n",
        "print(sample())\n",
        "print(sample())"
      ],
      "metadata": {
        "colab": {
          "base_uri": "https://localhost:8080/"
        },
        "id": "op2926W48Tsw",
        "outputId": "15389b26-d7e0-4c3c-be3b-69f0b6dab674"
      },
      "execution_count": 117,
      "outputs": [
        {
          "output_type": "stream",
          "name": "stdout",
          "text": [
            "6\n",
            "12\n",
            "8\n"
          ]
        }
      ]
    },
    {
      "cell_type": "markdown",
      "source": [
        "### 5.1.3 Monte Carlo implementation"
      ],
      "metadata": {
        "id": "O0buvGxJ8aE3"
      }
    },
    {
      "cell_type": "code",
      "source": [
        "trial = 1000\n",
        "samples = []\n",
        "for _ in range(trial):\n",
        "  s = sample()\n",
        "  samples.append(s)\n",
        "\n",
        "# find the mean\n",
        "V = sum(samples) / len(samples)\n",
        "print(V)"
      ],
      "metadata": {
        "colab": {
          "base_uri": "https://localhost:8080/"
        },
        "id": "BMD0-iAy8vrS",
        "outputId": "e2601925-660e-469a-ea5d-763fed91b437"
      },
      "execution_count": 123,
      "outputs": [
        {
          "output_type": "stream",
          "name": "stdout",
          "text": [
            "6.984\n"
          ]
        }
      ]
    },
    {
      "cell_type": "code",
      "source": [
        "trial = 1000\n",
        "\n",
        "samples = []\n",
        "for _ in range(trial):\n",
        "  s = sample()\n",
        "  samples.append(s)\n",
        "  # Calculate the average each time\n",
        "  V = sum(samples) / len(samples)\n",
        "  print(V)"
      ],
      "metadata": {
        "id": "sdJ34y6r9Dae"
      },
      "execution_count": null,
      "outputs": []
    },
    {
      "cell_type": "code",
      "source": [
        "trial = 1000\n",
        "V, n = 0, 0\n",
        "\n",
        "for _ in range(trial):\n",
        "  s = sample()\n",
        "  n += 1\n",
        "  V += (s - V) / n\n",
        "  print(V)"
      ],
      "metadata": {
        "id": "UnhjAWw5-B-2"
      },
      "execution_count": null,
      "outputs": []
    },
    {
      "cell_type": "markdown",
      "source": [
        "## 5.3 Monte Carlo implementation"
      ],
      "metadata": {
        "id": "7mx_tWC9-dO_"
      }
    },
    {
      "cell_type": "markdown",
      "source": [
        "### 5.3.1 step method"
      ],
      "metadata": {
        "id": "nUpKsxKOApyy"
      }
    },
    {
      "cell_type": "code",
      "source": [
        "env = GridWorld()\n",
        "# Action of dummy\n",
        "action = 0\n",
        "next_state, reward, done = env.step(action)\n",
        "\n",
        "print('next_state:', next_state)\n",
        "print('reward:', reward)\n",
        "print('done:', done)"
      ],
      "metadata": {
        "colab": {
          "base_uri": "https://localhost:8080/"
        },
        "id": "uinUKzKkAyo7",
        "outputId": "a4c1d073-9cab-458c-8183-d16cfd5f36a6"
      },
      "execution_count": 137,
      "outputs": [
        {
          "output_type": "stream",
          "name": "stdout",
          "text": [
            "next_state: (1, 0)\n",
            "reward: 0\n",
            "done: False\n"
          ]
        }
      ]
    },
    {
      "cell_type": "code",
      "source": [
        "env = GridWorld()\n",
        "state = env.reset()"
      ],
      "metadata": {
        "id": "8DEqS0dgBIjj"
      },
      "execution_count": 138,
      "outputs": []
    },
    {
      "cell_type": "code",
      "source": [
        ""
      ],
      "metadata": {
        "id": "VxqF_XfnHR9Y"
      },
      "execution_count": null,
      "outputs": []
    }
  ]
}